{
 "cells": [
  {
   "cell_type": "markdown",
   "metadata": {},
   "source": [
    "MODEL HIGHLIGHTS:\n",
    "\n",
    "•\tAutomated univariate and multivariate/parallel time series implementation\n",
    "\n",
    "•\tAbility to handle messy data by learning optimal NaN imputation (lead and lag backward forward filled + IterativeImputer)\n",
    "\n",
    "•\tFeature Selection + linear and nonlinear feature reduction (SelectKBest, PCA, umap) \n",
    "\n",
    "•\tOptimal periodicity searching for the LSTM model (Power Spectral Density)\n",
    "\n",
    "•\tLSTM for forecasting\n",
    "\n",
    "\n",
    "This project aims to guide enterprise stakeholders in their future business decisions. The users can upload several datasets and choose the target subjects, target variables, and requested prediction interval.\n",
    "\n",
    "It will bring the following for its users:\n",
    "\n",
    "•\tthe predictions for the target subjects and variables,\n",
    "\n",
    "•\tdata insights related to target subjects and target variables,\n",
    "\n",
    "•\ta combined dataset that all missing entries are imputed.\n",
    "\n",
    "We use the GDP forecast example to demonstrate how automated data analysis can be done and what values it will bring to the users.\n",
    "\n",
    "\n",
    "DATASET:\n",
    "\n",
    "2019 dataset from across 13 publicly available sources. (15312 observations, 3451 variables, 403.2MB memory usage, 196 countries observed for 58 years)\n",
    "1.\tWorld Bank Development Indicators (https://datacatalog.worldbank.org/dataset/world-development-indicators)\n",
    "2.\tPenn World tables (https://www.rug.nl/ggdc/productivity/pwt/?lang=en)\n",
    "3.\tGlobal competitiveness indices (https://govdata360.worldbank.org/indicators/h93b3b7a4)\n",
    "4.\tGlobal competitiveness report (https://www.weforum.org/reports/how-to-end-a-decade-of-lost-productivity-growth)\n",
    "5.\tWorld governance indicators (https://info.worldbank.org/governance/wgi/)\n",
    "6.\tIMF World economic outlook (https://www.imf.org/en/Publications/SPROLLs/world-economic-outlook-databases)\n",
    "7.\tAtlas of Economic complexity (https://atlas.cid.harvard.edu/)\n",
    "8.\tReinhart and Rogoff FX (https://www.ilzetzki.com/irr-data)\n",
    "9.\tBarro-Lee education data (http://www.barrolee.com/)\n",
    "10.\tEnterprise survey (https://www.enterprisesurveys.org/en/enterprisesurveys)\n",
    "11.\tDoing business indicators (DBI) (https://www.doingbusiness.org/en/data)\n",
    "12.\tEconomist intelligence unit (https://country.eiu.com/united-states)\n",
    "13.\tQuality of government (https://www.gu.se/en/quality-government/qog-data)\n",
    "\n",
    "Link to Jupyter Notebook: https://github.com/haydarevren/automated-insight-capstone/blob/main/automated-insight.ipynb"
   ]
  },
  {
   "cell_type": "code",
   "execution_count": 197,
   "metadata": {},
   "outputs": [],
   "source": [
    "import pandas as pd\n",
    "import numpy as np\n",
    "import matplotlib.pyplot as plt\n",
    "import pickle\n",
    "import jupyter \n",
    "import voila\n",
    "\n",
    "# from collections import defaultdict\n",
    "# from sklearn.preprocessing import LabelEncoder\n",
    "\n",
    "# from sklearn.preprocessing import MinMaxScaler\n",
    "\n",
    "# from sklearn.experimental import enable_iterative_imputer \n",
    "# from sklearn.impute import IterativeImputer\n",
    "# from sklearn.linear_model import BayesianRidge\n",
    "\n",
    "# import umap\n",
    "\n",
    "# from scipy import fftpack\n",
    "# from sklearn.metrics import mean_squared_error"
   ]
  },
  {
   "cell_type": "code",
   "execution_count": 198,
   "metadata": {},
   "outputs": [],
   "source": [
    "#user inputs\n",
    "subject_iden_col=['iso']\n",
    "time_iden_cols=['year']\n",
    "target_cols=['WB_ny_gdp_mktp_cd']\n",
    "target_subjects=['USA', 'OED']\n",
    "target_periods=3\n",
    "\n",
    "# #user datasets\n",
    "# df1=pd.read_csv('data/dataset1.csv', index_col=subject_iden_col+time_iden_cols)\n",
    "# df2=pd.read_csv('data/dataset2.csv', index_col=subject_iden_col+time_iden_cols)\n",
    "# df3=pd.read_csv('data/dataset3.csv', index_col=subject_iden_col+time_iden_cols)\n",
    "# df4=pd.read_csv('data/dataset4.csv', index_col=subject_iden_col+time_iden_cols)\n",
    "# df5=pd.read_csv('data/dataset5.csv', index_col=subject_iden_col+time_iden_cols)\n",
    "# df6=pd.read_csv('data/dataset6.csv', index_col=subject_iden_col+time_iden_cols)\n",
    "# df7=pd.read_csv('data/dataset7.csv', index_col=subject_iden_col+time_iden_cols)"
   ]
  },
  {
   "cell_type": "code",
   "execution_count": 199,
   "metadata": {},
   "outputs": [],
   "source": [
    "# df=pd.concat([df1,df2,df3,df4,df5,df6,df7],axis=1).reset_index()"
   ]
  },
  {
   "cell_type": "markdown",
   "metadata": {},
   "source": [
    "Data Set (first 5 observations):"
   ]
  },
  {
   "cell_type": "code",
   "execution_count": 200,
   "metadata": {},
   "outputs": [
    {
     "data": {
      "text/html": [
       "<div>\n",
       "<style scoped>\n",
       "    .dataframe tbody tr th:only-of-type {\n",
       "        vertical-align: middle;\n",
       "    }\n",
       "\n",
       "    .dataframe tbody tr th {\n",
       "        vertical-align: top;\n",
       "    }\n",
       "\n",
       "    .dataframe thead th {\n",
       "        text-align: right;\n",
       "    }\n",
       "</style>\n",
       "<table border=\"1\" class=\"dataframe\">\n",
       "  <thead>\n",
       "    <tr style=\"text-align: right;\">\n",
       "      <th></th>\n",
       "      <th>iso</th>\n",
       "      <th>year</th>\n",
       "      <th>countrycode</th>\n",
       "      <th>countryname</th>\n",
       "      <th>regionname</th>\n",
       "      <th>adminregion</th>\n",
       "      <th>adminregionname</th>\n",
       "      <th>incomelevel</th>\n",
       "      <th>incomelevelname</th>\n",
       "      <th>lendingtype</th>\n",
       "      <th>...</th>\n",
       "      <th>QG_wdi_unempfilo</th>\n",
       "      <th>QG_wdi_unempilo</th>\n",
       "      <th>QG_wdi_unempmilo</th>\n",
       "      <th>QG_wdi_unempyfilo</th>\n",
       "      <th>QG_wdi_unempyilo</th>\n",
       "      <th>QG_wdi_unempymilo</th>\n",
       "      <th>QG_wdi_wip</th>\n",
       "      <th>QG_who_sanittot</th>\n",
       "      <th>QG_whr_hap</th>\n",
       "      <th>QG_wr_regtype</th>\n",
       "    </tr>\n",
       "  </thead>\n",
       "  <tbody>\n",
       "    <tr>\n",
       "      <th>0</th>\n",
       "      <td>ABW</td>\n",
       "      <td>1961</td>\n",
       "      <td>ABW</td>\n",
       "      <td>Aruba</td>\n",
       "      <td>Latin America and Caribbean</td>\n",
       "      <td>NaN</td>\n",
       "      <td>NaN</td>\n",
       "      <td>HIC</td>\n",
       "      <td>High income</td>\n",
       "      <td>LNX</td>\n",
       "      <td>...</td>\n",
       "      <td>NaN</td>\n",
       "      <td>NaN</td>\n",
       "      <td>NaN</td>\n",
       "      <td>NaN</td>\n",
       "      <td>NaN</td>\n",
       "      <td>NaN</td>\n",
       "      <td>NaN</td>\n",
       "      <td>NaN</td>\n",
       "      <td>NaN</td>\n",
       "      <td>NaN</td>\n",
       "    </tr>\n",
       "    <tr>\n",
       "      <th>1</th>\n",
       "      <td>ABW</td>\n",
       "      <td>1962</td>\n",
       "      <td>ABW</td>\n",
       "      <td>Aruba</td>\n",
       "      <td>Latin America and Caribbean</td>\n",
       "      <td>NaN</td>\n",
       "      <td>NaN</td>\n",
       "      <td>HIC</td>\n",
       "      <td>High income</td>\n",
       "      <td>LNX</td>\n",
       "      <td>...</td>\n",
       "      <td>NaN</td>\n",
       "      <td>NaN</td>\n",
       "      <td>NaN</td>\n",
       "      <td>NaN</td>\n",
       "      <td>NaN</td>\n",
       "      <td>NaN</td>\n",
       "      <td>NaN</td>\n",
       "      <td>NaN</td>\n",
       "      <td>NaN</td>\n",
       "      <td>NaN</td>\n",
       "    </tr>\n",
       "    <tr>\n",
       "      <th>2</th>\n",
       "      <td>ABW</td>\n",
       "      <td>1963</td>\n",
       "      <td>ABW</td>\n",
       "      <td>Aruba</td>\n",
       "      <td>Latin America and Caribbean</td>\n",
       "      <td>NaN</td>\n",
       "      <td>NaN</td>\n",
       "      <td>HIC</td>\n",
       "      <td>High income</td>\n",
       "      <td>LNX</td>\n",
       "      <td>...</td>\n",
       "      <td>NaN</td>\n",
       "      <td>NaN</td>\n",
       "      <td>NaN</td>\n",
       "      <td>NaN</td>\n",
       "      <td>NaN</td>\n",
       "      <td>NaN</td>\n",
       "      <td>NaN</td>\n",
       "      <td>NaN</td>\n",
       "      <td>NaN</td>\n",
       "      <td>NaN</td>\n",
       "    </tr>\n",
       "    <tr>\n",
       "      <th>3</th>\n",
       "      <td>ABW</td>\n",
       "      <td>1964</td>\n",
       "      <td>ABW</td>\n",
       "      <td>Aruba</td>\n",
       "      <td>Latin America and Caribbean</td>\n",
       "      <td>NaN</td>\n",
       "      <td>NaN</td>\n",
       "      <td>HIC</td>\n",
       "      <td>High income</td>\n",
       "      <td>LNX</td>\n",
       "      <td>...</td>\n",
       "      <td>NaN</td>\n",
       "      <td>NaN</td>\n",
       "      <td>NaN</td>\n",
       "      <td>NaN</td>\n",
       "      <td>NaN</td>\n",
       "      <td>NaN</td>\n",
       "      <td>NaN</td>\n",
       "      <td>NaN</td>\n",
       "      <td>NaN</td>\n",
       "      <td>NaN</td>\n",
       "    </tr>\n",
       "    <tr>\n",
       "      <th>4</th>\n",
       "      <td>ABW</td>\n",
       "      <td>1965</td>\n",
       "      <td>ABW</td>\n",
       "      <td>Aruba</td>\n",
       "      <td>Latin America and Caribbean</td>\n",
       "      <td>NaN</td>\n",
       "      <td>NaN</td>\n",
       "      <td>HIC</td>\n",
       "      <td>High income</td>\n",
       "      <td>LNX</td>\n",
       "      <td>...</td>\n",
       "      <td>NaN</td>\n",
       "      <td>NaN</td>\n",
       "      <td>NaN</td>\n",
       "      <td>NaN</td>\n",
       "      <td>NaN</td>\n",
       "      <td>NaN</td>\n",
       "      <td>NaN</td>\n",
       "      <td>NaN</td>\n",
       "      <td>NaN</td>\n",
       "      <td>NaN</td>\n",
       "    </tr>\n",
       "  </tbody>\n",
       "</table>\n",
       "<p>5 rows × 3451 columns</p>\n",
       "</div>"
      ],
      "text/plain": [
       "   iso  year countrycode countryname                   regionname  \\\n",
       "0  ABW  1961         ABW       Aruba  Latin America and Caribbean   \n",
       "1  ABW  1962         ABW       Aruba  Latin America and Caribbean   \n",
       "2  ABW  1963         ABW       Aruba  Latin America and Caribbean   \n",
       "3  ABW  1964         ABW       Aruba  Latin America and Caribbean   \n",
       "4  ABW  1965         ABW       Aruba  Latin America and Caribbean   \n",
       "\n",
       "   adminregion  adminregionname incomelevel incomelevelname lendingtype  ...  \\\n",
       "0          NaN              NaN         HIC     High income         LNX  ...   \n",
       "1          NaN              NaN         HIC     High income         LNX  ...   \n",
       "2          NaN              NaN         HIC     High income         LNX  ...   \n",
       "3          NaN              NaN         HIC     High income         LNX  ...   \n",
       "4          NaN              NaN         HIC     High income         LNX  ...   \n",
       "\n",
       "  QG_wdi_unempfilo  QG_wdi_unempilo  QG_wdi_unempmilo  QG_wdi_unempyfilo  \\\n",
       "0              NaN              NaN               NaN                NaN   \n",
       "1              NaN              NaN               NaN                NaN   \n",
       "2              NaN              NaN               NaN                NaN   \n",
       "3              NaN              NaN               NaN                NaN   \n",
       "4              NaN              NaN               NaN                NaN   \n",
       "\n",
       "   QG_wdi_unempyilo  QG_wdi_unempymilo  QG_wdi_wip  QG_who_sanittot  \\\n",
       "0               NaN                NaN         NaN              NaN   \n",
       "1               NaN                NaN         NaN              NaN   \n",
       "2               NaN                NaN         NaN              NaN   \n",
       "3               NaN                NaN         NaN              NaN   \n",
       "4               NaN                NaN         NaN              NaN   \n",
       "\n",
       "   QG_whr_hap  QG_wr_regtype  \n",
       "0         NaN            NaN  \n",
       "1         NaN            NaN  \n",
       "2         NaN            NaN  \n",
       "3         NaN            NaN  \n",
       "4         NaN            NaN  \n",
       "\n",
       "[5 rows x 3451 columns]"
      ]
     },
     "execution_count": 200,
     "metadata": {},
     "output_type": "execute_result"
    }
   ],
   "source": [
    "ds1=pd.read_csv('data/ds1.csv')\n",
    "ds1.head(5)"
   ]
  },
  {
   "cell_type": "code",
   "execution_count": 201,
   "metadata": {
    "scrolled": true
   },
   "outputs": [],
   "source": [
    "# df.head(10)"
   ]
  },
  {
   "cell_type": "markdown",
   "metadata": {},
   "source": [
    "Information about dataset:"
   ]
  },
  {
   "cell_type": "code",
   "execution_count": 202,
   "metadata": {},
   "outputs": [
    {
     "name": "stdout",
     "output_type": "stream",
     "text": [
      "<class 'pandas.core.frame.DataFrame'>\n",
      "RangeIndex: 15312 entries, 0 to 15311 \n",
      "Columns: 3451 entries, iso to QG_wr_regtype\n",
      "dtypes: float64(3398), int64(1), object(52)\n",
      "memory usage: 403.2+ MB\n"
     ]
    }
   ],
   "source": [
    "print(\"<class 'pandas.core.frame.DataFrame'>\\nRangeIndex: 15312 entries, 0 to 15311 \\nColumns: 3451 entries, iso to QG_wr_regtype\\ndtypes: float64(3398), int64(1), object(52)\\nmemory usage: 403.2+ MB\")"
   ]
  },
  {
   "cell_type": "code",
   "execution_count": 203,
   "metadata": {},
   "outputs": [],
   "source": [
    "# df.info(verbose=0)"
   ]
  },
  {
   "cell_type": "code",
   "execution_count": 204,
   "metadata": {},
   "outputs": [
    {
     "name": "stdout",
     "output_type": "stream",
     "text": [
      "Target subjects are : ['USA', 'OED']\n"
     ]
    }
   ],
   "source": [
    "print('Target subjects are : %s' %(target_subjects))"
   ]
  },
  {
   "cell_type": "code",
   "execution_count": 205,
   "metadata": {},
   "outputs": [
    {
     "name": "stdout",
     "output_type": "stream",
     "text": [
      "Forecast for next 3 periods.\n"
     ]
    }
   ],
   "source": [
    "print('Forecast for next %d periods.' %(target_periods))"
   ]
  },
  {
   "cell_type": "code",
   "execution_count": 206,
   "metadata": {},
   "outputs": [],
   "source": [
    "data_info = pd.read_csv('data/features_dictionary.csv')"
   ]
  },
  {
   "cell_type": "code",
   "execution_count": 207,
   "metadata": {},
   "outputs": [],
   "source": [
    "def feat_info(cols: list) :\n",
    "    return data_info[data_info['Identifier'].isin(cols)]"
   ]
  },
  {
   "cell_type": "markdown",
   "metadata": {},
   "source": [
    "Target Columns:"
   ]
  },
  {
   "cell_type": "code",
   "execution_count": 208,
   "metadata": {},
   "outputs": [
    {
     "data": {
      "text/html": [
       "<div>\n",
       "<style scoped>\n",
       "    .dataframe tbody tr th:only-of-type {\n",
       "        vertical-align: middle;\n",
       "    }\n",
       "\n",
       "    .dataframe tbody tr th {\n",
       "        vertical-align: top;\n",
       "    }\n",
       "\n",
       "    .dataframe thead th {\n",
       "        text-align: right;\n",
       "    }\n",
       "</style>\n",
       "<table border=\"1\" class=\"dataframe\">\n",
       "  <thead>\n",
       "    <tr style=\"text-align: right;\">\n",
       "      <th></th>\n",
       "      <th>Identifier</th>\n",
       "      <th>Description</th>\n",
       "      <th>Source</th>\n",
       "      <th>Publisher</th>\n",
       "      <th>Year</th>\n",
       "      <th>Topic</th>\n",
       "    </tr>\n",
       "  </thead>\n",
       "  <tbody>\n",
       "    <tr>\n",
       "      <th>306</th>\n",
       "      <td>WB_ny_gdp_mktp_cd</td>\n",
       "      <td>GDP (current US$)</td>\n",
       "      <td>World Development Indicators</td>\n",
       "      <td>The World Bank Group</td>\n",
       "      <td>2018</td>\n",
       "      <td>Economic Growth</td>\n",
       "    </tr>\n",
       "  </tbody>\n",
       "</table>\n",
       "</div>"
      ],
      "text/plain": [
       "            Identifier        Description                        Source  \\\n",
       "306  WB_ny_gdp_mktp_cd  GDP (current US$)  World Development Indicators   \n",
       "\n",
       "                Publisher  Year            Topic  \n",
       "306  The World Bank Group  2018  Economic Growth  "
      ]
     },
     "execution_count": 208,
     "metadata": {},
     "output_type": "execute_result"
    }
   ],
   "source": [
    "feat_info(target_cols)"
   ]
  },
  {
   "cell_type": "code",
   "execution_count": 209,
   "metadata": {},
   "outputs": [],
   "source": [
    "# high_missing_cols =list(df.columns[(df.isna().sum()/len(df))>0.8]) #columns that more than 80% off entries missing \n",
    "\n",
    "# df=df.drop(columns=high_missing_cols)"
   ]
  },
  {
   "cell_type": "code",
   "execution_count": 123,
   "metadata": {},
   "outputs": [],
   "source": [
    "# df['subject']=df[subject_iden_col]\n",
    "# df=df.drop(columns=subject_iden_col)\n",
    "\n",
    "# df['date'] =df[time_iden_cols]\n",
    "# df=df.drop(columns=time_iden_cols)\n",
    "\n",
    "# df['SUBJECT']=df['subject']\n",
    "# df['DATE']=df['date']"
   ]
  },
  {
   "cell_type": "code",
   "execution_count": 124,
   "metadata": {
    "scrolled": false
   },
   "outputs": [],
   "source": [
    "# cat_cols=list(df.drop(['SUBJECT'],axis=1).select_dtypes(exclude=[np.float,np.int64]).columns)\n",
    "# num_cols=list(df.drop(['DATE']+target_cols,axis=1).select_dtypes(include=[np.float,np.int64]).columns)\n",
    "\n",
    "# df=df[['SUBJECT', 'DATE'] + target_cols + num_cols + cat_cols]"
   ]
  },
  {
   "cell_type": "markdown",
   "metadata": {},
   "source": [
    "Before imputation dataset looks like:"
   ]
  },
  {
   "cell_type": "code",
   "execution_count": 125,
   "metadata": {
    "scrolled": true
   },
   "outputs": [],
   "source": [
    "# df.tail(10)"
   ]
  },
  {
   "cell_type": "code",
   "execution_count": 130,
   "metadata": {},
   "outputs": [
    {
     "data": {
      "text/html": [
       "<div>\n",
       "<style scoped>\n",
       "    .dataframe tbody tr th:only-of-type {\n",
       "        vertical-align: middle;\n",
       "    }\n",
       "\n",
       "    .dataframe tbody tr th {\n",
       "        vertical-align: top;\n",
       "    }\n",
       "\n",
       "    .dataframe thead th {\n",
       "        text-align: right;\n",
       "    }\n",
       "</style>\n",
       "<table border=\"1\" class=\"dataframe\">\n",
       "  <thead>\n",
       "    <tr style=\"text-align: right;\">\n",
       "      <th></th>\n",
       "      <th>SUBJECT</th>\n",
       "      <th>DATE</th>\n",
       "      <th>WB_ny_gdp_mktp_cd</th>\n",
       "      <th>WB_ny_gdp_defl_kd_zg</th>\n",
       "      <th>WB_ag_agr_trac_no</th>\n",
       "      <th>WB_ag_lnd_agri_k2</th>\n",
       "      <th>WB_ag_lnd_agri_zs</th>\n",
       "      <th>WB_ag_lnd_arbl_ha</th>\n",
       "      <th>WB_ag_lnd_arbl_ha_pc</th>\n",
       "      <th>WB_ag_lnd_arbl_zs</th>\n",
       "      <th>...</th>\n",
       "      <th>QG_iaep_cc</th>\n",
       "      <th>QG_iaep_epmf</th>\n",
       "      <th>QG_iaep_es</th>\n",
       "      <th>QG_iaep_osp</th>\n",
       "      <th>QG_iaep_ufs</th>\n",
       "      <th>QG_lp_legor</th>\n",
       "      <th>QG_no_ef</th>\n",
       "      <th>QG_no_ufs</th>\n",
       "      <th>QG_wr_regtype</th>\n",
       "      <th>subject</th>\n",
       "    </tr>\n",
       "  </thead>\n",
       "  <tbody>\n",
       "    <tr>\n",
       "      <th>15307</th>\n",
       "      <td>ZWE</td>\n",
       "      <td>2014</td>\n",
       "      <td>1.949552e+10</td>\n",
       "      <td>-0.252141</td>\n",
       "      <td>NaN</td>\n",
       "      <td>162000.0</td>\n",
       "      <td>41.876696</td>\n",
       "      <td>4000000.0</td>\n",
       "      <td>0.294406</td>\n",
       "      <td>10.339925</td>\n",
       "      <td>...</td>\n",
       "      <td>NaN</td>\n",
       "      <td>NaN</td>\n",
       "      <td>NaN</td>\n",
       "      <td>NaN</td>\n",
       "      <td>NaN</td>\n",
       "      <td>1. English Common Law</td>\n",
       "      <td>NaN</td>\n",
       "      <td>NaN</td>\n",
       "      <td>NaN</td>\n",
       "      <td>ZWE</td>\n",
       "    </tr>\n",
       "    <tr>\n",
       "      <th>15308</th>\n",
       "      <td>ZWE</td>\n",
       "      <td>2015</td>\n",
       "      <td>1.996312e+10</td>\n",
       "      <td>0.607814</td>\n",
       "      <td>NaN</td>\n",
       "      <td>162000.0</td>\n",
       "      <td>41.876696</td>\n",
       "      <td>4000000.0</td>\n",
       "      <td>0.289548</td>\n",
       "      <td>10.339925</td>\n",
       "      <td>...</td>\n",
       "      <td>NaN</td>\n",
       "      <td>NaN</td>\n",
       "      <td>NaN</td>\n",
       "      <td>NaN</td>\n",
       "      <td>NaN</td>\n",
       "      <td>1. English Common Law</td>\n",
       "      <td>NaN</td>\n",
       "      <td>NaN</td>\n",
       "      <td>NaN</td>\n",
       "      <td>ZWE</td>\n",
       "    </tr>\n",
       "    <tr>\n",
       "      <th>15309</th>\n",
       "      <td>ZWE</td>\n",
       "      <td>2016</td>\n",
       "      <td>2.054868e+10</td>\n",
       "      <td>2.160993</td>\n",
       "      <td>NaN</td>\n",
       "      <td>162000.0</td>\n",
       "      <td>41.876696</td>\n",
       "      <td>4000000.0</td>\n",
       "      <td>0.285095</td>\n",
       "      <td>10.339925</td>\n",
       "      <td>...</td>\n",
       "      <td>NaN</td>\n",
       "      <td>NaN</td>\n",
       "      <td>NaN</td>\n",
       "      <td>NaN</td>\n",
       "      <td>NaN</td>\n",
       "      <td>1. English Common Law</td>\n",
       "      <td>NaN</td>\n",
       "      <td>NaN</td>\n",
       "      <td>NaN</td>\n",
       "      <td>ZWE</td>\n",
       "    </tr>\n",
       "    <tr>\n",
       "      <th>15310</th>\n",
       "      <td>ZWE</td>\n",
       "      <td>2017</td>\n",
       "      <td>2.281301e+10</td>\n",
       "      <td>6.031593</td>\n",
       "      <td>NaN</td>\n",
       "      <td>NaN</td>\n",
       "      <td>NaN</td>\n",
       "      <td>NaN</td>\n",
       "      <td>NaN</td>\n",
       "      <td>NaN</td>\n",
       "      <td>...</td>\n",
       "      <td>NaN</td>\n",
       "      <td>NaN</td>\n",
       "      <td>NaN</td>\n",
       "      <td>NaN</td>\n",
       "      <td>NaN</td>\n",
       "      <td>1. English Common Law</td>\n",
       "      <td>NaN</td>\n",
       "      <td>NaN</td>\n",
       "      <td>NaN</td>\n",
       "      <td>ZWE</td>\n",
       "    </tr>\n",
       "    <tr>\n",
       "      <th>15311</th>\n",
       "      <td>ZWE</td>\n",
       "      <td>2018</td>\n",
       "      <td>3.100052e+10</td>\n",
       "      <td>28.005545</td>\n",
       "      <td>NaN</td>\n",
       "      <td>NaN</td>\n",
       "      <td>NaN</td>\n",
       "      <td>NaN</td>\n",
       "      <td>NaN</td>\n",
       "      <td>NaN</td>\n",
       "      <td>...</td>\n",
       "      <td>NaN</td>\n",
       "      <td>NaN</td>\n",
       "      <td>NaN</td>\n",
       "      <td>NaN</td>\n",
       "      <td>NaN</td>\n",
       "      <td>1. English Common Law</td>\n",
       "      <td>NaN</td>\n",
       "      <td>NaN</td>\n",
       "      <td>NaN</td>\n",
       "      <td>ZWE</td>\n",
       "    </tr>\n",
       "  </tbody>\n",
       "</table>\n",
       "<p>5 rows × 1621 columns</p>\n",
       "</div>"
      ],
      "text/plain": [
       "      SUBJECT  DATE  WB_ny_gdp_mktp_cd  WB_ny_gdp_defl_kd_zg  \\\n",
       "15307     ZWE  2014       1.949552e+10             -0.252141   \n",
       "15308     ZWE  2015       1.996312e+10              0.607814   \n",
       "15309     ZWE  2016       2.054868e+10              2.160993   \n",
       "15310     ZWE  2017       2.281301e+10              6.031593   \n",
       "15311     ZWE  2018       3.100052e+10             28.005545   \n",
       "\n",
       "       WB_ag_agr_trac_no  WB_ag_lnd_agri_k2  WB_ag_lnd_agri_zs  \\\n",
       "15307                NaN           162000.0          41.876696   \n",
       "15308                NaN           162000.0          41.876696   \n",
       "15309                NaN           162000.0          41.876696   \n",
       "15310                NaN                NaN                NaN   \n",
       "15311                NaN                NaN                NaN   \n",
       "\n",
       "       WB_ag_lnd_arbl_ha  WB_ag_lnd_arbl_ha_pc  WB_ag_lnd_arbl_zs  ...  \\\n",
       "15307          4000000.0              0.294406          10.339925  ...   \n",
       "15308          4000000.0              0.289548          10.339925  ...   \n",
       "15309          4000000.0              0.285095          10.339925  ...   \n",
       "15310                NaN                   NaN                NaN  ...   \n",
       "15311                NaN                   NaN                NaN  ...   \n",
       "\n",
       "       QG_iaep_cc  QG_iaep_epmf  QG_iaep_es  QG_iaep_osp  QG_iaep_ufs  \\\n",
       "15307         NaN           NaN         NaN          NaN          NaN   \n",
       "15308         NaN           NaN         NaN          NaN          NaN   \n",
       "15309         NaN           NaN         NaN          NaN          NaN   \n",
       "15310         NaN           NaN         NaN          NaN          NaN   \n",
       "15311         NaN           NaN         NaN          NaN          NaN   \n",
       "\n",
       "                 QG_lp_legor  QG_no_ef  QG_no_ufs  QG_wr_regtype  subject  \n",
       "15307  1. English Common Law       NaN        NaN            NaN      ZWE  \n",
       "15308  1. English Common Law       NaN        NaN            NaN      ZWE  \n",
       "15309  1. English Common Law       NaN        NaN            NaN      ZWE  \n",
       "15310  1. English Common Law       NaN        NaN            NaN      ZWE  \n",
       "15311  1. English Common Law       NaN        NaN            NaN      ZWE  \n",
       "\n",
       "[5 rows x 1621 columns]"
      ]
     },
     "execution_count": 130,
     "metadata": {},
     "output_type": "execute_result"
    }
   ],
   "source": [
    "ds3=pd.read_csv('data/ds3.csv', index_col='Unnamed: 0')\n",
    "ds3.tail(5)"
   ]
  },
  {
   "cell_type": "markdown",
   "metadata": {},
   "source": [
    "# PART 1"
   ]
  },
  {
   "cell_type": "markdown",
   "metadata": {},
   "source": [
    "# IMPUTATION"
   ]
  },
  {
   "cell_type": "markdown",
   "metadata": {},
   "source": [
    "Let's fill the missing values. We first encode the categorical values, then scale the dataset. \n",
    "Two-stage imputer:\n",
    "\n",
    "1-) Create lag and lead terms and backward and forward fill them.\n",
    "\n",
    "2-) Use the information from previous and later period and 5 nearest features to fill the missing values by Bayesian Ridge Imputer. (the imputation for categorical variables restricted such that they do not go outside their bounds)"
   ]
  },
  {
   "cell_type": "code",
   "execution_count": 136,
   "metadata": {},
   "outputs": [],
   "source": [
    "# scaled_df_lag_lead=gen_lag_lead(scaled_df,n_in=1,n_out=1,dropnan=False).drop(columns=['SUBJECT', 'DATE'])"
   ]
  },
  {
   "cell_type": "code",
   "execution_count": 137,
   "metadata": {},
   "outputs": [],
   "source": [
    "# imputer = IterativeImputer(BayesianRidge(),n_nearest_features=3,tol=0.01,verbose=0,min_value=-0.001,max_value=1.001)\n",
    "# imputed_data=imputer.fit_transform(scaled_df_lag_lead)"
   ]
  },
  {
   "cell_type": "code",
   "execution_count": 138,
   "metadata": {},
   "outputs": [],
   "source": [
    "# imputed_data=pd.DataFrame(data=imputed_data, columns=scaled_df_lag_lead.columns, index=scaled_df_lag_lead.index)"
   ]
  },
  {
   "cell_type": "code",
   "execution_count": 139,
   "metadata": {},
   "outputs": [],
   "source": [
    "# imputed_scaled_df_lag_lead=imputed_data\n",
    "\n",
    "# imputed_scaled_df=imputed_data[scaled_df.drop(columns=['SUBJECT', 'DATE']).columns]\n"
   ]
  },
  {
   "cell_type": "code",
   "execution_count": 140,
   "metadata": {},
   "outputs": [],
   "source": [
    "# imputed_encoded_df=scaler.inverse_transform(imputed_scaled_df)"
   ]
  },
  {
   "cell_type": "code",
   "execution_count": 141,
   "metadata": {},
   "outputs": [],
   "source": [
    "# imputed_encoded_df=pd.DataFrame(data=imputed_encoded_df,columns=df.drop(columns=['SUBJECT','DATE']).columns,index=df.index)"
   ]
  },
  {
   "cell_type": "code",
   "execution_count": 142,
   "metadata": {},
   "outputs": [],
   "source": [
    "# imputed_df=imputed_encoded_df\n",
    "# imputed_df[cat_cols]=imputed_df[cat_cols].apply(lambda x: np.rint(x)).astype(np.int64)\n",
    "\n",
    "# imputed_df[cat_cols] = imputed_df[cat_cols].apply(lambda x: dic_encoder[x.name].inverse_transform(x))"
   ]
  },
  {
   "cell_type": "code",
   "execution_count": 143,
   "metadata": {},
   "outputs": [],
   "source": [
    "# imputed_df['SUBJECT']=df['SUBJECT']\n",
    "# imputed_df['DATE']=df['DATE']\n",
    "# imputed_df=imputed_df[['SUBJECT', 'DATE'] + target_cols + num_cols + cat_cols]"
   ]
  },
  {
   "cell_type": "markdown",
   "metadata": {},
   "source": [
    "Final imputed dataset:"
   ]
  },
  {
   "cell_type": "code",
   "execution_count": 144,
   "metadata": {
    "scrolled": true
   },
   "outputs": [],
   "source": [
    "# imputed_df.tail(10)"
   ]
  },
  {
   "cell_type": "code",
   "execution_count": 145,
   "metadata": {},
   "outputs": [
    {
     "data": {
      "text/html": [
       "<div>\n",
       "<style scoped>\n",
       "    .dataframe tbody tr th:only-of-type {\n",
       "        vertical-align: middle;\n",
       "    }\n",
       "\n",
       "    .dataframe tbody tr th {\n",
       "        vertical-align: top;\n",
       "    }\n",
       "\n",
       "    .dataframe thead th {\n",
       "        text-align: right;\n",
       "    }\n",
       "</style>\n",
       "<table border=\"1\" class=\"dataframe\">\n",
       "  <thead>\n",
       "    <tr style=\"text-align: right;\">\n",
       "      <th></th>\n",
       "      <th>SUBJECT</th>\n",
       "      <th>DATE</th>\n",
       "      <th>WB_ny_gdp_mktp_cd</th>\n",
       "      <th>WB_ny_gdp_defl_kd_zg</th>\n",
       "      <th>WB_ag_agr_trac_no</th>\n",
       "      <th>WB_ag_lnd_agri_k2</th>\n",
       "      <th>WB_ag_lnd_agri_zs</th>\n",
       "      <th>WB_ag_lnd_arbl_ha</th>\n",
       "      <th>WB_ag_lnd_arbl_ha_pc</th>\n",
       "      <th>WB_ag_lnd_arbl_zs</th>\n",
       "      <th>...</th>\n",
       "      <th>QG_iaep_cc</th>\n",
       "      <th>QG_iaep_epmf</th>\n",
       "      <th>QG_iaep_es</th>\n",
       "      <th>QG_iaep_osp</th>\n",
       "      <th>QG_iaep_ufs</th>\n",
       "      <th>QG_lp_legor</th>\n",
       "      <th>QG_no_ef</th>\n",
       "      <th>QG_no_ufs</th>\n",
       "      <th>QG_wr_regtype</th>\n",
       "      <th>subject</th>\n",
       "    </tr>\n",
       "  </thead>\n",
       "  <tbody>\n",
       "    <tr>\n",
       "      <th>15307</th>\n",
       "      <td>ZWE</td>\n",
       "      <td>2014</td>\n",
       "      <td>1.949552e+10</td>\n",
       "      <td>-0.252141</td>\n",
       "      <td>208766.579968</td>\n",
       "      <td>162000.000000</td>\n",
       "      <td>41.876696</td>\n",
       "      <td>4.000000e+06</td>\n",
       "      <td>0.294406</td>\n",
       "      <td>10.339925</td>\n",
       "      <td>...</td>\n",
       "      <td>Yes</td>\n",
       "      <td>No</td>\n",
       "      <td>N/A - no legislature</td>\n",
       "      <td>No</td>\n",
       "      <td>Missing information</td>\n",
       "      <td>1. English Common Law</td>\n",
       "      <td>No competative elections</td>\n",
       "      <td>Unitary</td>\n",
       "      <td>Party-Military</td>\n",
       "      <td>ZWE</td>\n",
       "    </tr>\n",
       "    <tr>\n",
       "      <th>15308</th>\n",
       "      <td>ZWE</td>\n",
       "      <td>2015</td>\n",
       "      <td>1.996312e+10</td>\n",
       "      <td>0.607814</td>\n",
       "      <td>201445.771178</td>\n",
       "      <td>162000.000000</td>\n",
       "      <td>41.876696</td>\n",
       "      <td>4.000000e+06</td>\n",
       "      <td>0.289548</td>\n",
       "      <td>10.339925</td>\n",
       "      <td>...</td>\n",
       "      <td>Yes</td>\n",
       "      <td>No</td>\n",
       "      <td>N/A - no legislature</td>\n",
       "      <td>No</td>\n",
       "      <td>Missing information</td>\n",
       "      <td>1. English Common Law</td>\n",
       "      <td>No competative elections</td>\n",
       "      <td>Unitary</td>\n",
       "      <td>Party-Military</td>\n",
       "      <td>ZWE</td>\n",
       "    </tr>\n",
       "    <tr>\n",
       "      <th>15309</th>\n",
       "      <td>ZWE</td>\n",
       "      <td>2016</td>\n",
       "      <td>2.054868e+10</td>\n",
       "      <td>2.160993</td>\n",
       "      <td>191127.072674</td>\n",
       "      <td>162000.000000</td>\n",
       "      <td>41.876696</td>\n",
       "      <td>4.000000e+06</td>\n",
       "      <td>0.285095</td>\n",
       "      <td>10.339925</td>\n",
       "      <td>...</td>\n",
       "      <td>Yes</td>\n",
       "      <td>No</td>\n",
       "      <td>N/A - no legislature</td>\n",
       "      <td>No</td>\n",
       "      <td>Missing information</td>\n",
       "      <td>1. English Common Law</td>\n",
       "      <td>No competative elections</td>\n",
       "      <td>Unitary</td>\n",
       "      <td>Party-Military-Personal</td>\n",
       "      <td>ZWE</td>\n",
       "    </tr>\n",
       "    <tr>\n",
       "      <th>15310</th>\n",
       "      <td>ZWE</td>\n",
       "      <td>2017</td>\n",
       "      <td>2.281301e+10</td>\n",
       "      <td>6.031593</td>\n",
       "      <td>186700.549043</td>\n",
       "      <td>115983.303187</td>\n",
       "      <td>38.784419</td>\n",
       "      <td>2.737998e+06</td>\n",
       "      <td>0.217196</td>\n",
       "      <td>11.999161</td>\n",
       "      <td>...</td>\n",
       "      <td>Yes</td>\n",
       "      <td>No</td>\n",
       "      <td>N/A - no elected legislature</td>\n",
       "      <td>No</td>\n",
       "      <td>Missing information</td>\n",
       "      <td>1. English Common Law</td>\n",
       "      <td>No competative elections</td>\n",
       "      <td>Unitary</td>\n",
       "      <td>Party-Military-Personal</td>\n",
       "      <td>ZWE</td>\n",
       "    </tr>\n",
       "    <tr>\n",
       "      <th>15311</th>\n",
       "      <td>ZWE</td>\n",
       "      <td>2018</td>\n",
       "      <td>3.100052e+10</td>\n",
       "      <td>28.005545</td>\n",
       "      <td>201733.979566</td>\n",
       "      <td>884478.016527</td>\n",
       "      <td>38.090632</td>\n",
       "      <td>2.648727e+06</td>\n",
       "      <td>0.260472</td>\n",
       "      <td>12.068284</td>\n",
       "      <td>...</td>\n",
       "      <td>Yes</td>\n",
       "      <td>No</td>\n",
       "      <td>N/A - no elected legislature</td>\n",
       "      <td>No</td>\n",
       "      <td>Missing information</td>\n",
       "      <td>1. English Common Law</td>\n",
       "      <td>No competative elections</td>\n",
       "      <td>Unitary</td>\n",
       "      <td>Party</td>\n",
       "      <td>ZWE</td>\n",
       "    </tr>\n",
       "  </tbody>\n",
       "</table>\n",
       "<p>5 rows × 1621 columns</p>\n",
       "</div>"
      ],
      "text/plain": [
       "      SUBJECT  DATE  WB_ny_gdp_mktp_cd  WB_ny_gdp_defl_kd_zg  \\\n",
       "15307     ZWE  2014       1.949552e+10             -0.252141   \n",
       "15308     ZWE  2015       1.996312e+10              0.607814   \n",
       "15309     ZWE  2016       2.054868e+10              2.160993   \n",
       "15310     ZWE  2017       2.281301e+10              6.031593   \n",
       "15311     ZWE  2018       3.100052e+10             28.005545   \n",
       "\n",
       "       WB_ag_agr_trac_no  WB_ag_lnd_agri_k2  WB_ag_lnd_agri_zs  \\\n",
       "15307      208766.579968      162000.000000          41.876696   \n",
       "15308      201445.771178      162000.000000          41.876696   \n",
       "15309      191127.072674      162000.000000          41.876696   \n",
       "15310      186700.549043      115983.303187          38.784419   \n",
       "15311      201733.979566      884478.016527          38.090632   \n",
       "\n",
       "       WB_ag_lnd_arbl_ha  WB_ag_lnd_arbl_ha_pc  WB_ag_lnd_arbl_zs  ...  \\\n",
       "15307       4.000000e+06              0.294406          10.339925  ...   \n",
       "15308       4.000000e+06              0.289548          10.339925  ...   \n",
       "15309       4.000000e+06              0.285095          10.339925  ...   \n",
       "15310       2.737998e+06              0.217196          11.999161  ...   \n",
       "15311       2.648727e+06              0.260472          12.068284  ...   \n",
       "\n",
       "       QG_iaep_cc  QG_iaep_epmf                    QG_iaep_es  QG_iaep_osp  \\\n",
       "15307         Yes            No          N/A - no legislature           No   \n",
       "15308         Yes            No          N/A - no legislature           No   \n",
       "15309         Yes            No          N/A - no legislature           No   \n",
       "15310         Yes            No  N/A - no elected legislature           No   \n",
       "15311         Yes            No  N/A - no elected legislature           No   \n",
       "\n",
       "               QG_iaep_ufs            QG_lp_legor                  QG_no_ef  \\\n",
       "15307  Missing information  1. English Common Law  No competative elections   \n",
       "15308  Missing information  1. English Common Law  No competative elections   \n",
       "15309  Missing information  1. English Common Law  No competative elections   \n",
       "15310  Missing information  1. English Common Law  No competative elections   \n",
       "15311  Missing information  1. English Common Law  No competative elections   \n",
       "\n",
       "       QG_no_ufs            QG_wr_regtype  subject  \n",
       "15307    Unitary           Party-Military      ZWE  \n",
       "15308    Unitary           Party-Military      ZWE  \n",
       "15309    Unitary  Party-Military-Personal      ZWE  \n",
       "15310    Unitary  Party-Military-Personal      ZWE  \n",
       "15311    Unitary                    Party      ZWE  \n",
       "\n",
       "[5 rows x 1621 columns]"
      ]
     },
     "execution_count": 145,
     "metadata": {},
     "output_type": "execute_result"
    }
   ],
   "source": [
    "ds4=pd.read_csv('data/ds4.csv', index_col='Unnamed: 0')\n",
    "ds4.tail(5)"
   ]
  },
  {
   "cell_type": "markdown",
   "metadata": {},
   "source": [
    "# PART2"
   ]
  },
  {
   "cell_type": "markdown",
   "metadata": {},
   "source": [
    "# PREPROCESS"
   ]
  },
  {
   "cell_type": "markdown",
   "metadata": {},
   "source": [
    "We deploy a feature selection then two dimensionality reduction techniques to use in model construction.\n",
    "\n",
    "Having irrelevant features in your data can decrease the accuracy of the models and make your model learn based on irrelevant features.\n",
    "\n",
    "When dealing with high dimensional data, it is often useful to reduce the dimensionality by projecting the data to a lower dimensional subspace which captures the “essence” of the data.\n",
    "\n",
    "We select the best 30 lead indicators according to F-value. (SelectKBest(f_regression, k=30) where target variables shifted by one period.)\n",
    "\n",
    "We utilize the PCA linear dimensionality reduction of the best features to project it to a lower dimensional space.\n",
    "\n",
    "We utilize the UMAP nonlinear dimension reduction technique. It is very similar to t-SNE but is very general non-linear dimension reduction and faster than t-SNE. It can accommodate both local and global properties. \n",
    "\n",
    "There are many different dimensionality reduction algorithms and no single best method for all datasets. Although, PCA tends to find linear correlations between variables, which is sometimes undesirable. We utilize two different technique to cover a lot of ground."
   ]
  },
  {
   "cell_type": "markdown",
   "metadata": {},
   "source": [
    "Dataset after dimension reduction:"
   ]
  },
  {
   "cell_type": "code",
   "execution_count": 152,
   "metadata": {
    "scrolled": true
   },
   "outputs": [],
   "source": [
    "# reduced_df.head()"
   ]
  },
  {
   "cell_type": "code",
   "execution_count": 212,
   "metadata": {},
   "outputs": [
    {
     "data": {
      "text/html": [
       "<div>\n",
       "<style scoped>\n",
       "    .dataframe tbody tr th:only-of-type {\n",
       "        vertical-align: middle;\n",
       "    }\n",
       "\n",
       "    .dataframe tbody tr th {\n",
       "        vertical-align: top;\n",
       "    }\n",
       "\n",
       "    .dataframe thead th {\n",
       "        text-align: right;\n",
       "    }\n",
       "</style>\n",
       "<table border=\"1\" class=\"dataframe\">\n",
       "  <thead>\n",
       "    <tr style=\"text-align: right;\">\n",
       "      <th></th>\n",
       "      <th>SUBJECT</th>\n",
       "      <th>DATE</th>\n",
       "      <th>WB_ny_gdp_mktp_cd</th>\n",
       "      <th>subject</th>\n",
       "      <th>date</th>\n",
       "      <th>umap0</th>\n",
       "      <th>umap1</th>\n",
       "      <th>umap2</th>\n",
       "      <th>pca0</th>\n",
       "      <th>pca1</th>\n",
       "      <th>pca2</th>\n",
       "    </tr>\n",
       "  </thead>\n",
       "  <tbody>\n",
       "    <tr>\n",
       "      <th>0</th>\n",
       "      <td>ABW</td>\n",
       "      <td>1961</td>\n",
       "      <td>5.664328e+11</td>\n",
       "      <td>0</td>\n",
       "      <td>1961.0</td>\n",
       "      <td>7.673544</td>\n",
       "      <td>-3.309184</td>\n",
       "      <td>2.740360</td>\n",
       "      <td>-0.042787</td>\n",
       "      <td>0.001981</td>\n",
       "      <td>0.000146</td>\n",
       "    </tr>\n",
       "    <tr>\n",
       "      <th>1</th>\n",
       "      <td>ABW</td>\n",
       "      <td>1962</td>\n",
       "      <td>3.055660e+11</td>\n",
       "      <td>0</td>\n",
       "      <td>1962.0</td>\n",
       "      <td>7.584056</td>\n",
       "      <td>-3.149572</td>\n",
       "      <td>2.853826</td>\n",
       "      <td>-0.045854</td>\n",
       "      <td>0.002245</td>\n",
       "      <td>0.000075</td>\n",
       "    </tr>\n",
       "    <tr>\n",
       "      <th>2</th>\n",
       "      <td>ABW</td>\n",
       "      <td>1963</td>\n",
       "      <td>3.202148e+11</td>\n",
       "      <td>0</td>\n",
       "      <td>1963.0</td>\n",
       "      <td>7.560796</td>\n",
       "      <td>-3.199496</td>\n",
       "      <td>2.810458</td>\n",
       "      <td>-0.045376</td>\n",
       "      <td>0.002307</td>\n",
       "      <td>0.000096</td>\n",
       "    </tr>\n",
       "    <tr>\n",
       "      <th>3</th>\n",
       "      <td>ABW</td>\n",
       "      <td>1964</td>\n",
       "      <td>3.299147e+11</td>\n",
       "      <td>0</td>\n",
       "      <td>1964.0</td>\n",
       "      <td>7.589560</td>\n",
       "      <td>-3.145691</td>\n",
       "      <td>2.858384</td>\n",
       "      <td>-0.045516</td>\n",
       "      <td>0.002461</td>\n",
       "      <td>0.000119</td>\n",
       "    </tr>\n",
       "    <tr>\n",
       "      <th>4</th>\n",
       "      <td>ABW</td>\n",
       "      <td>1965</td>\n",
       "      <td>3.488399e+11</td>\n",
       "      <td>0</td>\n",
       "      <td>1965.0</td>\n",
       "      <td>7.580264</td>\n",
       "      <td>-3.185156</td>\n",
       "      <td>2.824124</td>\n",
       "      <td>-0.044894</td>\n",
       "      <td>0.002401</td>\n",
       "      <td>0.000023</td>\n",
       "    </tr>\n",
       "  </tbody>\n",
       "</table>\n",
       "</div>"
      ],
      "text/plain": [
       "  SUBJECT  DATE  WB_ny_gdp_mktp_cd  subject    date     umap0     umap1  \\\n",
       "0     ABW  1961       5.664328e+11        0  1961.0  7.673544 -3.309184   \n",
       "1     ABW  1962       3.055660e+11        0  1962.0  7.584056 -3.149572   \n",
       "2     ABW  1963       3.202148e+11        0  1963.0  7.560796 -3.199496   \n",
       "3     ABW  1964       3.299147e+11        0  1964.0  7.589560 -3.145691   \n",
       "4     ABW  1965       3.488399e+11        0  1965.0  7.580264 -3.185156   \n",
       "\n",
       "      umap2      pca0      pca1      pca2  \n",
       "0  2.740360 -0.042787  0.001981  0.000146  \n",
       "1  2.853826 -0.045854  0.002245  0.000075  \n",
       "2  2.810458 -0.045376  0.002307  0.000096  \n",
       "3  2.858384 -0.045516  0.002461  0.000119  \n",
       "4  2.824124 -0.044894  0.002401  0.000023  "
      ]
     },
     "execution_count": 212,
     "metadata": {},
     "output_type": "execute_result"
    }
   ],
   "source": [
    "ds5=pd.read_csv('data/ds5.csv', index_col='Unnamed: 0')\n",
    "ds5.head()"
   ]
  },
  {
   "cell_type": "markdown",
   "metadata": {},
   "source": [
    "Let's find whether there is a meaningful periodicity in the dataset"
   ]
  },
  {
   "cell_type": "code",
   "execution_count": 154,
   "metadata": {
    "scrolled": true
   },
   "outputs": [],
   "source": [
    "# ft_targets = fftpack.fft(reduced_df[target_cols], axis=0)\n",
    "# frequencies = fftpack.fftfreq(reduced_df[target_cols].shape[0],1)\n",
    "# periods = 1 / frequencies\n",
    "\n",
    "# periodicity_find=pd.DataFrame(abs(ft_targets) * 1e-3,columns=target_cols)\n",
    "# periodicity_find['periods']=periods\n",
    "\n",
    "# fig9=plt.figure(figsize=(5,5))\n",
    "\n",
    "\n",
    "# plt.plot(periodicity_find['periods'], periodicity_find[target_cols], 'o')\n",
    "# plt.xlim(1, 50)\n",
    "# plt.xlabel('Period')\n",
    "# plt.ylabel('Power ($\\cdot10^3$)')\n",
    "\n",
    "# plt.show()\n",
    "\n",
    "# pickle.dump(fig9, open('FigureObject9.fig.pickle', 'wb')) "
   ]
  },
  {
   "cell_type": "code",
   "execution_count": 161,
   "metadata": {},
   "outputs": [
    {
     "data": {
      "image/png": "[encoded data removed]",
      "text/plain": [
       "<Figure size 360x360 with 1 Axes>"
      ]
     },
     "metadata": {
      "needs_background": "light"
     },
     "output_type": "display_data"
    }
   ],
   "source": [
    "fig9 = pickle.load(open('FigureObject9.fig.pickle', 'rb'))"
   ]
  },
  {
   "cell_type": "code",
   "execution_count": 162,
   "metadata": {},
   "outputs": [],
   "source": [
    "# periodicity_find[((periodicity_find['periods']>0) & (periodicity_find['periods']<50))].max()"
   ]
  },
  {
   "cell_type": "code",
   "execution_count": 163,
   "metadata": {
    "scrolled": true
   },
   "outputs": [],
   "source": [
    "# periodicity_find[((periodicity_find['periods']>0) & (periodicity_find['periods']<50))].idxmax()"
   ]
  },
  {
   "cell_type": "code",
   "execution_count": 164,
   "metadata": {},
   "outputs": [],
   "source": [
    "# opt_period=np.rint(periodicity_find.loc[528,'periods'])"
   ]
  },
  {
   "cell_type": "code",
   "execution_count": 165,
   "metadata": {},
   "outputs": [],
   "source": [
    "# #time constant t_r=0.35*period\n",
    "# t_r=opt_period*0.35"
   ]
  },
  {
   "cell_type": "code",
   "execution_count": 166,
   "metadata": {},
   "outputs": [
    {
     "name": "stdout",
     "output_type": "stream",
     "text": [
      "Time constant is equal to 10 (highest period in the power spectrum times 0.35)\n"
     ]
    }
   ],
   "source": [
    "print('Time constant is equal to 10 (highest period in the power spectrum times 0.35)')"
   ]
  },
  {
   "cell_type": "code",
   "execution_count": 167,
   "metadata": {},
   "outputs": [],
   "source": [
    "# window=np.rint(t_r/2).astype(np.int64)"
   ]
  },
  {
   "cell_type": "code",
   "execution_count": 168,
   "metadata": {},
   "outputs": [
    {
     "name": "stdout",
     "output_type": "stream",
     "text": [
      "Optimal window length is 5 (approximately half of the time constant)\n"
     ]
    }
   ],
   "source": [
    "print('Optimal window length is 5 (approximately half of the time constant)')"
   ]
  },
  {
   "cell_type": "markdown",
   "metadata": {},
   "source": [
    "# PART 3"
   ]
  },
  {
   "cell_type": "markdown",
   "metadata": {},
   "source": [
    "# First train the model for nontarget subjects (Rest of the World)"
   ]
  },
  {
   "cell_type": "markdown",
   "metadata": {},
   "source": [
    "There are two ways to solve time-series panel data: either loop throughout the model for each country’s data or the countries’ panel data once. If you try both and obtain the RMSE for each way, you can compare the result and choose the best way for your time series panel data."
   ]
  },
  {
   "cell_type": "markdown",
   "metadata": {},
   "source": [
    "Let's first train the LSTM model with Global Dataset"
   ]
  },
  {
   "cell_type": "code",
   "execution_count": 169,
   "metadata": {},
   "outputs": [],
   "source": [
    "#SCALE FEATURES "
   ]
  },
  {
   "cell_type": "code",
   "execution_count": 170,
   "metadata": {},
   "outputs": [],
   "source": [
    "# s=MinMaxScaler()\n",
    "# Xs=s.fit_transform(reduced_df.drop(columns=['SUBJECT','DATE']))\n",
    "# Ys=Xs"
   ]
  },
  {
   "cell_type": "code",
   "execution_count": 171,
   "metadata": {},
   "outputs": [],
   "source": [
    "# X=[]\n",
    "# Y=[]"
   ]
  },
  {
   "cell_type": "code",
   "execution_count": 172,
   "metadata": {},
   "outputs": [],
   "source": [
    "# subject_lists=reduced_df['SUBJECT'].unique().tolist()\n",
    "\n",
    "# subject_range_list=[]\n",
    "\n",
    "# for subject in subject_lists:\n",
    "#     range_subject=reduced_df.index[reduced_df['SUBJECT']==subject].tolist()\n",
    "    \n",
    "#     if not subject in target_subjects:\n",
    "#         start=range_subject[0]\n",
    "#         end=range_subject[-1]\n",
    "        \n",
    "#         for i in range(start+window,end+1):\n",
    "#             X.append(Xs[i-window:i,:])\n",
    "#             Y.append(Ys[i])\n",
    "#             subject_range_list.append(i)"
   ]
  },
  {
   "cell_type": "code",
   "execution_count": 173,
   "metadata": {},
   "outputs": [],
   "source": [
    "# X, Y =np.array(X), np.array(Y)"
   ]
  },
  {
   "cell_type": "code",
   "execution_count": 174,
   "metadata": {},
   "outputs": [],
   "source": [
    "# model = Sequential()\n",
    "\n",
    "# model.add(LSTM(units=32*Y.shape[1], activation='relu',input_shape=(X.shape[1], X.shape[2]), return_sequences=True ))\n",
    "# model.add(Dropout(0.1))\n",
    "\n",
    "# model.add(LSTM(units=8*Y.shape[1],return_sequences=False))\n",
    "# model.add(Dropout(0.1))\n",
    "\n",
    "# model.add(Dense(Y.shape[1]))\n",
    "# model.add(Activation(\"linear\"))\n",
    "\n",
    "# model.compile(optimizer=\"adam\",\n",
    "#               loss='mse',\n",
    "#               loss_weights=[1,0.001,0.001,0.01,0.00001,0.00001,0.00001,0.00001,0.00001]\n",
    "#              )\n",
    "\n",
    "# t0=time.time()\n",
    "\n",
    "# model.fit(X,Y, \n",
    "#           epochs=30, \n",
    "#           batch_size=128,  verbose=0, shuffle=False,\n",
    "#          )\n",
    "        \n",
    "# t1=time.time()\n",
    "# t=t1-t0"
   ]
  },
  {
   "cell_type": "markdown",
   "metadata": {},
   "source": [
    "Model loss in each epoch"
   ]
  },
  {
   "cell_type": "code",
   "execution_count": 177,
   "metadata": {
    "scrolled": false
   },
   "outputs": [],
   "source": [
    "# # plot history\n",
    "# model_loss = pd.DataFrame(model.history.history)\n",
    "# model_loss.plot()"
   ]
  },
  {
   "cell_type": "code",
   "execution_count": 178,
   "metadata": {},
   "outputs": [],
   "source": [
    "# fig=model_loss.plot()\n",
    "# pickle.dump(fig, open('FigureObject.fig.pickle', 'wb')) "
   ]
  },
  {
   "cell_type": "code",
   "execution_count": 179,
   "metadata": {},
   "outputs": [
    {
     "data": {
      "image/png": "[encoded data removed]",
      "text/plain": [
       "<Figure size 432x288 with 1 Axes>"
      ]
     },
     "metadata": {
      "needs_background": "light"
     },
     "output_type": "display_data"
    }
   ],
   "source": [
    "fig1 = pickle.load(open('FigureObject.fig.pickle', 'rb'))"
   ]
  },
  {
   "cell_type": "markdown",
   "metadata": {},
   "source": [
    "# Model Evaluation (Rest of The World)"
   ]
  },
  {
   "cell_type": "code",
   "execution_count": 180,
   "metadata": {},
   "outputs": [],
   "source": [
    "# Y_pred=model.predict(X)\n",
    "# Y_pred=s.inverse_transform(Y_pred)\n",
    "# Y_pred=pd.DataFrame(Y_pred,index=subject_range_list, columns=reduced_df.drop(columns=['SUBJECT','DATE']).columns)\n",
    "# Y_pred['SUBJECT']=reduced_df.loc[subject_range_list]['SUBJECT']\n",
    "# Y_pred['DATE']=reduced_df.loc[subject_range_list]['DATE']\n",
    "# Y_pred=Y_pred[reduced_df.columns]\n",
    "# Y=reduced_df.loc[subject_range_list]"
   ]
  },
  {
   "cell_type": "markdown",
   "metadata": {},
   "source": [
    "How model performed for total for Rest of The World:"
   ]
  },
  {
   "cell_type": "code",
   "execution_count": 181,
   "metadata": {
    "scrolled": true
   },
   "outputs": [],
   "source": [
    "# fig2=plt.figure(figsize=(20,10))\n",
    "# Y_pred.groupby('DATE')[target_cols[0]].mean().plot(kind='line',label='mean prediction',color='red',alpha=1)\n",
    "# Y.groupby('DATE')[target_cols[0]].mean().plot(kind='line',label='mean actual values',color='blue',alpha=0.4)\n",
    "# plt.xticks(rotation=90,size=20)\n",
    "# plt.yticks(size=20)\n",
    "\n",
    "# plt.ylabel(target_cols[0],fontsize=20)\n",
    "# plt.xlabel('Date',fontsize=20)\n",
    "# plt.title('Predicted Values VS Actual Values - Mean ',fontsize=20)\n",
    "# plt.legend()\n",
    "\n",
    "\n",
    "\n",
    "# pickle.dump(fig2, open('FigureObject2.fig.pickle', 'wb')) \n"
   ]
  },
  {
   "cell_type": "code",
   "execution_count": 213,
   "metadata": {},
   "outputs": [
    {
     "data": {
      "image/png": "[encoded data removed]",
      "text/plain": [
       "<Figure size 1440x720 with 1 Axes>"
      ]
     },
     "metadata": {
      "needs_background": "light"
     },
     "output_type": "display_data"
    }
   ],
   "source": [
    "fig2 = pickle.load(open('FigureObject2.fig.pickle', 'rb'))"
   ]
  },
  {
   "cell_type": "code",
   "execution_count": 183,
   "metadata": {},
   "outputs": [],
   "source": [
    "def RMSE(actual,prediction):\n",
    "    rmse = np.sqrt(mean_squared_error(actual,prediction))\n",
    "    return rmse"
   ]
  },
  {
   "cell_type": "code",
   "execution_count": 184,
   "metadata": {},
   "outputs": [],
   "source": [
    "# print('RMSE is %d' %RMSE(Y[target_cols[0]],Y_pred[target_cols[0]]))"
   ]
  },
  {
   "cell_type": "code",
   "execution_count": 185,
   "metadata": {},
   "outputs": [],
   "source": [
    "# print('RMSE is 850605668912')"
   ]
  },
  {
   "cell_type": "markdown",
   "metadata": {},
   "source": [
    "# BACKTESTING TARGET COUNTRIES"
   ]
  },
  {
   "cell_type": "code",
   "execution_count": 186,
   "metadata": {},
   "outputs": [
    {
     "data": {
      "image/png": "[encoded data removed]",
      "text/plain": [
       "<Figure size 1440x720 with 1 Axes>"
      ]
     },
     "metadata": {
      "needs_background": "light"
     },
     "output_type": "display_data"
    }
   ],
   "source": [
    "fig3 = pickle.load(open('FigureObject3.fig.pickle', 'rb'))"
   ]
  },
  {
   "cell_type": "code",
   "execution_count": 187,
   "metadata": {},
   "outputs": [
    {
     "data": {
      "image/png": "[encoded data removed]",
      "text/plain": [
       "<Figure size 1440x720 with 1 Axes>"
      ]
     },
     "metadata": {
      "needs_background": "light"
     },
     "output_type": "display_data"
    }
   ],
   "source": [
    "fig4 = pickle.load(open('FigureObject4.fig.pickle', 'rb'))"
   ]
  },
  {
   "cell_type": "markdown",
   "metadata": {},
   "source": [
    "The plot shows the predicted values versus actual values."
   ]
  },
  {
   "cell_type": "markdown",
   "metadata": {},
   "source": [
    "# FORECAST"
   ]
  },
  {
   "cell_type": "markdown",
   "metadata": {},
   "source": [
    "We forecast next 3 periods for each target county."
   ]
  },
  {
   "cell_type": "code",
   "execution_count": 189,
   "metadata": {},
   "outputs": [],
   "source": [
    "# #First fit model for test data then create a forcast for next periods\n",
    "\n",
    "# for i, subject in enumerate(target_subjects):\n",
    "#     X_train, Y_train, X_test, Y_test, subject_test_range_list = train_test_split(subject)\n",
    "    \n",
    "#     t0=time.time()\n",
    "#     model.fit(X_test,Y_test, \n",
    "#               epochs=60, \n",
    "#               batch_size=16,  verbose=0, shuffle=False,\n",
    "#              ) "
   ]
  },
  {
   "cell_type": "code",
   "execution_count": 190,
   "metadata": {},
   "outputs": [],
   "source": [
    "#Using predicted values to predict next step"
   ]
  },
  {
   "cell_type": "code",
   "execution_count": 191,
   "metadata": {},
   "outputs": [],
   "source": [
    "# names=[]\n",
    "# names.append('FigureObject6.fig.pickle')\n",
    "# names.append('FigureObject7.fig.pickle')\n",
    "# names.append('FigureObject8.fig.pickle')"
   ]
  },
  {
   "cell_type": "code",
   "execution_count": 192,
   "metadata": {},
   "outputs": [],
   "source": [
    "# for i, subject in enumerate(target_subjects):\n",
    "    \n",
    "#     Yf=[]\n",
    "#     range_subject=reduced_df.index[reduced_df['SUBJECT']==subject].tolist()\n",
    "    \n",
    "#     start=range_subject[-1]\n",
    "    \n",
    "#     X=Xs[start+1-window:start+1,:].copy()\n",
    "#     for j in range(window,window+target_periods):\n",
    "#         Xin=X[j-window:j].reshape((1,window,-1))\n",
    "#         X=np.append(X,model.predict(Xin)).reshape((-1,9))\n",
    "#         Yf.append(X[-1])\n",
    "    \n",
    "#     Yf=s.inverse_transform(Yf)\n",
    "    \n",
    "#     Yf=pd.DataFrame(Yf, columns=reduced_df.drop(columns=['SUBJECT','DATE']).columns)\n",
    "#     Yf['SUBJECT']=reduced_df.loc[start]['SUBJECT']\n",
    "#     Yf['DATE']=range(reduced_df.loc[start]['DATE']+1,reduced_df.loc[start]['DATE']+1+target_periods)\n",
    "    \n",
    "        \n",
    "#     fig=plt.figure(figsize=(5,5))\n",
    "#     Yf.groupby('DATE')[target_cols[0]].mean().plot(kind='line',label='forecast',color='red',alpha=1)\n",
    "#     plt.xticks(Yf['DATE'],rotation=90,size=15)\n",
    "#     plt.yticks(size=15)\n",
    "    \n",
    "    \n",
    "#     plt.ylabel(target_cols[0],fontsize=15)\n",
    "#     plt.xlabel('Date',fontsize=15)\n",
    "#     plt.title('Forecast Values - %s' %(subject),fontsize=20)\n",
    "#     plt.legend()  \n",
    "    \n",
    "#     pickle.dump(fig, open(names[i], 'wb'))"
   ]
  },
  {
   "cell_type": "code",
   "execution_count": 193,
   "metadata": {},
   "outputs": [
    {
     "data": {
      "image/png": "[encoded data removed]",
      "text/plain": [
       "<Figure size 1080x360 with 1 Axes>"
      ]
     },
     "metadata": {
      "needs_background": "light"
     },
     "output_type": "display_data"
    }
   ],
   "source": [
    "fig6 = pickle.load(open('FigureObject6.fig.pickle', 'rb'))"
   ]
  },
  {
   "cell_type": "code",
   "execution_count": 194,
   "metadata": {},
   "outputs": [
    {
     "data": {
      "image/png": "[encoded data removed]",
      "text/plain": [
       "<Figure size 1080x360 with 1 Axes>"
      ]
     },
     "metadata": {
      "needs_background": "light"
     },
     "output_type": "display_data"
    }
   ],
   "source": [
    "fig7 = pickle.load(open('FigureObject7.fig.pickle', 'rb'))"
   ]
  }
 ],
 "metadata": {
  "kernelspec": {
   "display_name": "Python 3",
   "language": "python",
   "name": "python3"
  },
  "language_info": {
   "codemirror_mode": {
    "name": "ipython",
    "version": 3
   },
   "file_extension": ".py",
   "mimetype": "text/x-python",
   "name": "python",
   "nbconvert_exporter": "python",
   "pygments_lexer": "ipython3",
   "version": "3.8.5"
  }
 },
 "nbformat": 4,
 "nbformat_minor": 4
}
