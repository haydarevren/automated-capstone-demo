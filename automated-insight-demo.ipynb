{
 "cells": [
  {
   "cell_type": "markdown",
   "metadata": {},
   "source": [
    "How much of the data processing can be automated? Is it possible to manage all aspects of data analysis with a single click? Our best friends for the decision-making process are the insights from the results. Organizations that have been effective in adopting and evangelizing analytics have set themselves apart from their competitors. However, it is always a huge hassle for small-size companies to use data for a better-informed decision. Hiring a data analyst or scientist might not always be cost effective. The first step toward alleviating the burden is automated data processing. It offers a systematic approach to reviewing, cleaning, transforming, and modeling data to uncover valuable knowledge, make recommendations and help decision-making for further investigation.\n",
    "\n",
    "This project aims to guide enterprise stakeholders in their future business decisions. The users can upload several datasets and choose the target subjects, target variables, and requested prediction interval.\n",
    "\n",
    "It will bring the following for its users:\n",
    "\n",
    "•\tthe predictions for the target subjects and variables,\n",
    "\n",
    "•\tdata insights related to target subjects and target variables,\n",
    "\n",
    "•\ta combined dataset that all missing entries are interpolated.\n",
    "\n",
    "For example, if a shoe store manager knows how many units each brand would sell for the next two months, s(he) can adjust his/her stock accordingly.\n",
    "\n",
    "For the best user experience, it is deployed as a webapp on heroku. One can simply go to https://automated-insight-demo.herokuapp.com/ to give it a try.\n",
    "\n",
    "I will use the GDP and inflation forecast example to demonstrate how automated data analysis can be done and what values it will bring to the users.\n",
    "\n",
    "Data: \n",
    "I have used 2019 dataset from across 13 publicly available sources. (15312 observations, 3451 variables, 403.2MB memory usage, 196 countries observed for 58 years)\n",
    "1.\tWorld Bank Development Indicators (https://datacatalog.worldbank.org/dataset/world-development-indicators)\n",
    "2.\tPenn World tables (https://www.rug.nl/ggdc/productivity/pwt/?lang=en)\n",
    "3.\tGlobal competitiveness indices (https://govdata360.worldbank.org/indicators/h93b3b7a4)\n",
    "4.\tGlobal competitiveness report (https://www.weforum.org/reports/how-to-end-a-decade-of-lost-productivity-growth)\n",
    "5.\tWorld governance indicators (https://info.worldbank.org/governance/wgi/)\n",
    "6.\tIMF World economic outlook (https://www.imf.org/en/Publications/SPROLLs/world-economic-outlook-databases)\n",
    "7.\tAtlas of Economic complexity (https://atlas.cid.harvard.edu/)\n",
    "8.\tReinhart and Rogoff FX (https://www.ilzetzki.com/irr-data)\n",
    "9.\tBarro-Lee education data (http://www.barrolee.com/)\n",
    "10.\tEnterprise survey (https://www.enterprisesurveys.org/en/enterprisesurveys)\n",
    "11.\tDoing business indicators (DBI) (https://www.doingbusiness.org/en/data)\n",
    "12.\tEconomist intelligence unit (https://country.eiu.com/united-states)\n",
    "13.\tQuality of government (https://www.gu.se/en/quality-government/qog-data)\n",
    "\n",
    "Model:\n",
    "\n",
    "The users will upload the datasets and select their target subjects and variables to predict. They will also choose the prediction interval in the future. The example is a panel (longitudinal) data set. It is multi-dimensional data involving measurements over time. Time-series and cross-sectional data can be considered special cases of panel data in one dimension only. I pick this type of dataset since it is the most common type of data we see in business data analysis. The aim is to both automate all steps and find fast and reliable predictions.\n",
    "\n",
    "I used the combined dataset and built a generic preprocessing step. The aim is to accommodate all types of uncleaned datasets. The dataset in my example has too many missing values. The first step is imputation of missing data.\n",
    "\n",
    "I first encode the categorical columns (leave out the missing values and save encoders as a dictionary). Then I created lag and lead terms for each observation (ensure that lags and leads are coming from the same subject). Then I use Bayesian Ridge iterative imputer (ensure that the estimates for categorical variables do not go outside their bounds). Then, I transform the scaled data to obtain the imputed dataset. This is the first output of the project. The users can use utilize this dataset for past information if they choose to. The next step is creating automated prediction and insight.\n",
    "\n",
    "I used a feature reduction technique to transform high-dimensional non-target columns into a space of fewer dimensions. I utilized the UMAP dimension reduction technique. It is very similar to t-SNE but is very general non-linear dimension reduction and faster than t-SNE. It can accommodate both local and global properties. The next step is detecting the possible periodicity in target variables. It would be very beneficial to know this periodicity information for the LSTM model. It would optimize how long data window model needs to feed into LSTM. It finds the highest power periods in the FFT transformation of the target columns.\n",
    "\n",
    "Long Short-Term Memory (LSTM) recurrent neural networks are an excellent algorithm for time series data that also can easily adapt to multivariate or multiple input forecasting problems. LSTM models require reshaping your dataset to a 3-dimensional object. I fed all these seven variables with found optimal periodicity lag (found from previous FFT spectrum analysis). There are two hidden layers in the model. It takes around 1 minute to train the model and gives a similar result to the baseline model that does not use any feature reduction.\n",
    "\n",
    "The deliverable of this project will be a web app. What it yields and the inputs are listed below.\n",
    "\n",
    "•\tSeveral datasets: uploaded by users\n",
    "\n",
    "•\tTarget subject columns, target subject names, target variables, date columns, prediction interval: selected by user\n",
    "\n",
    "•\tImputed data set: created by the webapp\n",
    "\n",
    "•\tScatter graphs: created using plotly\n",
    "\n",
    "•\tPrediction data set: created by the webapp\n",
    "\n",
    "•\tPerformance of the model in backtesting: created by the model"
   ]
  },
  {
   "cell_type": "code",
   "execution_count": 1,
   "metadata": {},
   "outputs": [],
   "source": [
    "import pandas as pd\n",
    "import numpy as np\n",
    "import matplotlib.pyplot as plt\n",
    "import pickle\n",
    "import jupyter \n",
    "import voila\n",
    "\n",
    "# from collections import defaultdict\n",
    "# from sklearn.preprocessing import LabelEncoder\n",
    "\n",
    "# from sklearn.preprocessing import MinMaxScaler\n",
    "\n",
    "# from sklearn.experimental import enable_iterative_imputer \n",
    "# from sklearn.impute import IterativeImputer\n",
    "# from sklearn.linear_model import BayesianRidge\n",
    "\n",
    "# import umap\n",
    "\n",
    "# from scipy import fftpack\n",
    "# from sklearn.metrics import mean_squared_error"
   ]
  },
  {
   "cell_type": "code",
   "execution_count": 67,
   "metadata": {},
   "outputs": [],
   "source": [
    "#user inputs\n",
    "subject_iden_col=['iso']\n",
    "time_iden_cols=['year']\n",
    "target_cols=['WB_ny_gdp_mktp_cd', 'WB_ny_gdp_defl_kd_zg']\n",
    "target_subjects=['USA', 'OED', 'HIC']\n",
    "target_periods=3\n",
    "\n",
    "# #user datasets\n",
    "# df1=pd.read_csv('data/dataset1.csv', index_col=subject_iden_col+time_iden_cols)\n",
    "# df2=pd.read_csv('data/dataset2.csv', index_col=subject_iden_col+time_iden_cols)\n",
    "# df3=pd.read_csv('data/dataset3.csv', index_col=subject_iden_col+time_iden_cols)\n",
    "# df4=pd.read_csv('data/dataset4.csv', index_col=subject_iden_col+time_iden_cols)\n",
    "# df5=pd.read_csv('data/dataset5.csv', index_col=subject_iden_col+time_iden_cols)\n",
    "# df6=pd.read_csv('data/dataset6.csv', index_col=subject_iden_col+time_iden_cols)\n",
    "# df7=pd.read_csv('data/dataset7.csv', index_col=subject_iden_col+time_iden_cols)"
   ]
  },
  {
   "cell_type": "code",
   "execution_count": 68,
   "metadata": {},
   "outputs": [],
   "source": [
    "# df=pd.concat([df1,df2,df3,df4,df5,df6,df7],axis=1).reset_index()"
   ]
  },
  {
   "cell_type": "markdown",
   "metadata": {},
   "source": [
    "Data Set (first 10 observations):"
   ]
  },
  {
   "cell_type": "code",
   "execution_count": 69,
   "metadata": {},
   "outputs": [
    {
     "data": {
      "text/html": [
       "<div>\n",
       "<style scoped>\n",
       "    .dataframe tbody tr th:only-of-type {\n",
       "        vertical-align: middle;\n",
       "    }\n",
       "\n",
       "    .dataframe tbody tr th {\n",
       "        vertical-align: top;\n",
       "    }\n",
       "\n",
       "    .dataframe thead th {\n",
       "        text-align: right;\n",
       "    }\n",
       "</style>\n",
       "<table border=\"1\" class=\"dataframe\">\n",
       "  <thead>\n",
       "    <tr style=\"text-align: right;\">\n",
       "      <th></th>\n",
       "      <th>iso</th>\n",
       "      <th>year</th>\n",
       "      <th>countrycode</th>\n",
       "      <th>countryname</th>\n",
       "      <th>regionname</th>\n",
       "      <th>adminregion</th>\n",
       "      <th>adminregionname</th>\n",
       "      <th>incomelevel</th>\n",
       "      <th>incomelevelname</th>\n",
       "      <th>lendingtype</th>\n",
       "      <th>...</th>\n",
       "      <th>QG_wdi_unempfilo</th>\n",
       "      <th>QG_wdi_unempilo</th>\n",
       "      <th>QG_wdi_unempmilo</th>\n",
       "      <th>QG_wdi_unempyfilo</th>\n",
       "      <th>QG_wdi_unempyilo</th>\n",
       "      <th>QG_wdi_unempymilo</th>\n",
       "      <th>QG_wdi_wip</th>\n",
       "      <th>QG_who_sanittot</th>\n",
       "      <th>QG_whr_hap</th>\n",
       "      <th>QG_wr_regtype</th>\n",
       "    </tr>\n",
       "  </thead>\n",
       "  <tbody>\n",
       "    <tr>\n",
       "      <th>0</th>\n",
       "      <td>ABW</td>\n",
       "      <td>1961</td>\n",
       "      <td>ABW</td>\n",
       "      <td>Aruba</td>\n",
       "      <td>Latin America and Caribbean</td>\n",
       "      <td>NaN</td>\n",
       "      <td>NaN</td>\n",
       "      <td>HIC</td>\n",
       "      <td>High income</td>\n",
       "      <td>LNX</td>\n",
       "      <td>...</td>\n",
       "      <td>NaN</td>\n",
       "      <td>NaN</td>\n",
       "      <td>NaN</td>\n",
       "      <td>NaN</td>\n",
       "      <td>NaN</td>\n",
       "      <td>NaN</td>\n",
       "      <td>NaN</td>\n",
       "      <td>NaN</td>\n",
       "      <td>NaN</td>\n",
       "      <td>NaN</td>\n",
       "    </tr>\n",
       "    <tr>\n",
       "      <th>1</th>\n",
       "      <td>ABW</td>\n",
       "      <td>1962</td>\n",
       "      <td>ABW</td>\n",
       "      <td>Aruba</td>\n",
       "      <td>Latin America and Caribbean</td>\n",
       "      <td>NaN</td>\n",
       "      <td>NaN</td>\n",
       "      <td>HIC</td>\n",
       "      <td>High income</td>\n",
       "      <td>LNX</td>\n",
       "      <td>...</td>\n",
       "      <td>NaN</td>\n",
       "      <td>NaN</td>\n",
       "      <td>NaN</td>\n",
       "      <td>NaN</td>\n",
       "      <td>NaN</td>\n",
       "      <td>NaN</td>\n",
       "      <td>NaN</td>\n",
       "      <td>NaN</td>\n",
       "      <td>NaN</td>\n",
       "      <td>NaN</td>\n",
       "    </tr>\n",
       "    <tr>\n",
       "      <th>2</th>\n",
       "      <td>ABW</td>\n",
       "      <td>1963</td>\n",
       "      <td>ABW</td>\n",
       "      <td>Aruba</td>\n",
       "      <td>Latin America and Caribbean</td>\n",
       "      <td>NaN</td>\n",
       "      <td>NaN</td>\n",
       "      <td>HIC</td>\n",
       "      <td>High income</td>\n",
       "      <td>LNX</td>\n",
       "      <td>...</td>\n",
       "      <td>NaN</td>\n",
       "      <td>NaN</td>\n",
       "      <td>NaN</td>\n",
       "      <td>NaN</td>\n",
       "      <td>NaN</td>\n",
       "      <td>NaN</td>\n",
       "      <td>NaN</td>\n",
       "      <td>NaN</td>\n",
       "      <td>NaN</td>\n",
       "      <td>NaN</td>\n",
       "    </tr>\n",
       "    <tr>\n",
       "      <th>3</th>\n",
       "      <td>ABW</td>\n",
       "      <td>1964</td>\n",
       "      <td>ABW</td>\n",
       "      <td>Aruba</td>\n",
       "      <td>Latin America and Caribbean</td>\n",
       "      <td>NaN</td>\n",
       "      <td>NaN</td>\n",
       "      <td>HIC</td>\n",
       "      <td>High income</td>\n",
       "      <td>LNX</td>\n",
       "      <td>...</td>\n",
       "      <td>NaN</td>\n",
       "      <td>NaN</td>\n",
       "      <td>NaN</td>\n",
       "      <td>NaN</td>\n",
       "      <td>NaN</td>\n",
       "      <td>NaN</td>\n",
       "      <td>NaN</td>\n",
       "      <td>NaN</td>\n",
       "      <td>NaN</td>\n",
       "      <td>NaN</td>\n",
       "    </tr>\n",
       "    <tr>\n",
       "      <th>4</th>\n",
       "      <td>ABW</td>\n",
       "      <td>1965</td>\n",
       "      <td>ABW</td>\n",
       "      <td>Aruba</td>\n",
       "      <td>Latin America and Caribbean</td>\n",
       "      <td>NaN</td>\n",
       "      <td>NaN</td>\n",
       "      <td>HIC</td>\n",
       "      <td>High income</td>\n",
       "      <td>LNX</td>\n",
       "      <td>...</td>\n",
       "      <td>NaN</td>\n",
       "      <td>NaN</td>\n",
       "      <td>NaN</td>\n",
       "      <td>NaN</td>\n",
       "      <td>NaN</td>\n",
       "      <td>NaN</td>\n",
       "      <td>NaN</td>\n",
       "      <td>NaN</td>\n",
       "      <td>NaN</td>\n",
       "      <td>NaN</td>\n",
       "    </tr>\n",
       "  </tbody>\n",
       "</table>\n",
       "<p>5 rows × 3451 columns</p>\n",
       "</div>"
      ],
      "text/plain": [
       "   iso  year countrycode countryname                   regionname  \\\n",
       "0  ABW  1961         ABW       Aruba  Latin America and Caribbean   \n",
       "1  ABW  1962         ABW       Aruba  Latin America and Caribbean   \n",
       "2  ABW  1963         ABW       Aruba  Latin America and Caribbean   \n",
       "3  ABW  1964         ABW       Aruba  Latin America and Caribbean   \n",
       "4  ABW  1965         ABW       Aruba  Latin America and Caribbean   \n",
       "\n",
       "   adminregion  adminregionname incomelevel incomelevelname lendingtype  ...  \\\n",
       "0          NaN              NaN         HIC     High income         LNX  ...   \n",
       "1          NaN              NaN         HIC     High income         LNX  ...   \n",
       "2          NaN              NaN         HIC     High income         LNX  ...   \n",
       "3          NaN              NaN         HIC     High income         LNX  ...   \n",
       "4          NaN              NaN         HIC     High income         LNX  ...   \n",
       "\n",
       "  QG_wdi_unempfilo  QG_wdi_unempilo  QG_wdi_unempmilo  QG_wdi_unempyfilo  \\\n",
       "0              NaN              NaN               NaN                NaN   \n",
       "1              NaN              NaN               NaN                NaN   \n",
       "2              NaN              NaN               NaN                NaN   \n",
       "3              NaN              NaN               NaN                NaN   \n",
       "4              NaN              NaN               NaN                NaN   \n",
       "\n",
       "   QG_wdi_unempyilo  QG_wdi_unempymilo  QG_wdi_wip  QG_who_sanittot  \\\n",
       "0               NaN                NaN         NaN              NaN   \n",
       "1               NaN                NaN         NaN              NaN   \n",
       "2               NaN                NaN         NaN              NaN   \n",
       "3               NaN                NaN         NaN              NaN   \n",
       "4               NaN                NaN         NaN              NaN   \n",
       "\n",
       "   QG_whr_hap  QG_wr_regtype  \n",
       "0         NaN            NaN  \n",
       "1         NaN            NaN  \n",
       "2         NaN            NaN  \n",
       "3         NaN            NaN  \n",
       "4         NaN            NaN  \n",
       "\n",
       "[5 rows x 3451 columns]"
      ]
     },
     "execution_count": 69,
     "metadata": {},
     "output_type": "execute_result"
    }
   ],
   "source": [
    "ds1=pd.read_csv('data/ds1.csv')\n",
    "ds1.head()"
   ]
  },
  {
   "cell_type": "code",
   "execution_count": 5,
   "metadata": {
    "scrolled": true
   },
   "outputs": [
    {
     "data": {
      "text/html": [
       "<div>\n",
       "<style scoped>\n",
       "    .dataframe tbody tr th:only-of-type {\n",
       "        vertical-align: middle;\n",
       "    }\n",
       "\n",
       "    .dataframe tbody tr th {\n",
       "        vertical-align: top;\n",
       "    }\n",
       "\n",
       "    .dataframe thead th {\n",
       "        text-align: right;\n",
       "    }\n",
       "</style>\n",
       "<table border=\"1\" class=\"dataframe\">\n",
       "  <thead>\n",
       "    <tr style=\"text-align: right;\">\n",
       "      <th></th>\n",
       "      <th>iso</th>\n",
       "      <th>year</th>\n",
       "      <th>countrycode</th>\n",
       "      <th>countryname</th>\n",
       "      <th>regionname</th>\n",
       "      <th>adminregion</th>\n",
       "      <th>adminregionname</th>\n",
       "      <th>incomelevel</th>\n",
       "      <th>incomelevelname</th>\n",
       "      <th>lendingtype</th>\n",
       "      <th>...</th>\n",
       "      <th>QG_wdi_unempfilo</th>\n",
       "      <th>QG_wdi_unempilo</th>\n",
       "      <th>QG_wdi_unempmilo</th>\n",
       "      <th>QG_wdi_unempyfilo</th>\n",
       "      <th>QG_wdi_unempyilo</th>\n",
       "      <th>QG_wdi_unempymilo</th>\n",
       "      <th>QG_wdi_wip</th>\n",
       "      <th>QG_who_sanittot</th>\n",
       "      <th>QG_whr_hap</th>\n",
       "      <th>QG_wr_regtype</th>\n",
       "    </tr>\n",
       "  </thead>\n",
       "  <tbody>\n",
       "    <tr>\n",
       "      <th>0</th>\n",
       "      <td>ABW</td>\n",
       "      <td>1961</td>\n",
       "      <td>ABW</td>\n",
       "      <td>Aruba</td>\n",
       "      <td>Latin America and Caribbean</td>\n",
       "      <td>NaN</td>\n",
       "      <td>NaN</td>\n",
       "      <td>HIC</td>\n",
       "      <td>High income</td>\n",
       "      <td>LNX</td>\n",
       "      <td>...</td>\n",
       "      <td>NaN</td>\n",
       "      <td>NaN</td>\n",
       "      <td>NaN</td>\n",
       "      <td>NaN</td>\n",
       "      <td>NaN</td>\n",
       "      <td>NaN</td>\n",
       "      <td>NaN</td>\n",
       "      <td>NaN</td>\n",
       "      <td>NaN</td>\n",
       "      <td>NaN</td>\n",
       "    </tr>\n",
       "    <tr>\n",
       "      <th>1</th>\n",
       "      <td>ABW</td>\n",
       "      <td>1962</td>\n",
       "      <td>ABW</td>\n",
       "      <td>Aruba</td>\n",
       "      <td>Latin America and Caribbean</td>\n",
       "      <td>NaN</td>\n",
       "      <td>NaN</td>\n",
       "      <td>HIC</td>\n",
       "      <td>High income</td>\n",
       "      <td>LNX</td>\n",
       "      <td>...</td>\n",
       "      <td>NaN</td>\n",
       "      <td>NaN</td>\n",
       "      <td>NaN</td>\n",
       "      <td>NaN</td>\n",
       "      <td>NaN</td>\n",
       "      <td>NaN</td>\n",
       "      <td>NaN</td>\n",
       "      <td>NaN</td>\n",
       "      <td>NaN</td>\n",
       "      <td>NaN</td>\n",
       "    </tr>\n",
       "    <tr>\n",
       "      <th>2</th>\n",
       "      <td>ABW</td>\n",
       "      <td>1963</td>\n",
       "      <td>ABW</td>\n",
       "      <td>Aruba</td>\n",
       "      <td>Latin America and Caribbean</td>\n",
       "      <td>NaN</td>\n",
       "      <td>NaN</td>\n",
       "      <td>HIC</td>\n",
       "      <td>High income</td>\n",
       "      <td>LNX</td>\n",
       "      <td>...</td>\n",
       "      <td>NaN</td>\n",
       "      <td>NaN</td>\n",
       "      <td>NaN</td>\n",
       "      <td>NaN</td>\n",
       "      <td>NaN</td>\n",
       "      <td>NaN</td>\n",
       "      <td>NaN</td>\n",
       "      <td>NaN</td>\n",
       "      <td>NaN</td>\n",
       "      <td>NaN</td>\n",
       "    </tr>\n",
       "    <tr>\n",
       "      <th>3</th>\n",
       "      <td>ABW</td>\n",
       "      <td>1964</td>\n",
       "      <td>ABW</td>\n",
       "      <td>Aruba</td>\n",
       "      <td>Latin America and Caribbean</td>\n",
       "      <td>NaN</td>\n",
       "      <td>NaN</td>\n",
       "      <td>HIC</td>\n",
       "      <td>High income</td>\n",
       "      <td>LNX</td>\n",
       "      <td>...</td>\n",
       "      <td>NaN</td>\n",
       "      <td>NaN</td>\n",
       "      <td>NaN</td>\n",
       "      <td>NaN</td>\n",
       "      <td>NaN</td>\n",
       "      <td>NaN</td>\n",
       "      <td>NaN</td>\n",
       "      <td>NaN</td>\n",
       "      <td>NaN</td>\n",
       "      <td>NaN</td>\n",
       "    </tr>\n",
       "    <tr>\n",
       "      <th>4</th>\n",
       "      <td>ABW</td>\n",
       "      <td>1965</td>\n",
       "      <td>ABW</td>\n",
       "      <td>Aruba</td>\n",
       "      <td>Latin America and Caribbean</td>\n",
       "      <td>NaN</td>\n",
       "      <td>NaN</td>\n",
       "      <td>HIC</td>\n",
       "      <td>High income</td>\n",
       "      <td>LNX</td>\n",
       "      <td>...</td>\n",
       "      <td>NaN</td>\n",
       "      <td>NaN</td>\n",
       "      <td>NaN</td>\n",
       "      <td>NaN</td>\n",
       "      <td>NaN</td>\n",
       "      <td>NaN</td>\n",
       "      <td>NaN</td>\n",
       "      <td>NaN</td>\n",
       "      <td>NaN</td>\n",
       "      <td>NaN</td>\n",
       "    </tr>\n",
       "    <tr>\n",
       "      <th>5</th>\n",
       "      <td>ABW</td>\n",
       "      <td>1966</td>\n",
       "      <td>ABW</td>\n",
       "      <td>Aruba</td>\n",
       "      <td>Latin America and Caribbean</td>\n",
       "      <td>NaN</td>\n",
       "      <td>NaN</td>\n",
       "      <td>HIC</td>\n",
       "      <td>High income</td>\n",
       "      <td>LNX</td>\n",
       "      <td>...</td>\n",
       "      <td>NaN</td>\n",
       "      <td>NaN</td>\n",
       "      <td>NaN</td>\n",
       "      <td>NaN</td>\n",
       "      <td>NaN</td>\n",
       "      <td>NaN</td>\n",
       "      <td>NaN</td>\n",
       "      <td>NaN</td>\n",
       "      <td>NaN</td>\n",
       "      <td>NaN</td>\n",
       "    </tr>\n",
       "    <tr>\n",
       "      <th>6</th>\n",
       "      <td>ABW</td>\n",
       "      <td>1967</td>\n",
       "      <td>ABW</td>\n",
       "      <td>Aruba</td>\n",
       "      <td>Latin America and Caribbean</td>\n",
       "      <td>NaN</td>\n",
       "      <td>NaN</td>\n",
       "      <td>HIC</td>\n",
       "      <td>High income</td>\n",
       "      <td>LNX</td>\n",
       "      <td>...</td>\n",
       "      <td>NaN</td>\n",
       "      <td>NaN</td>\n",
       "      <td>NaN</td>\n",
       "      <td>NaN</td>\n",
       "      <td>NaN</td>\n",
       "      <td>NaN</td>\n",
       "      <td>NaN</td>\n",
       "      <td>NaN</td>\n",
       "      <td>NaN</td>\n",
       "      <td>NaN</td>\n",
       "    </tr>\n",
       "    <tr>\n",
       "      <th>7</th>\n",
       "      <td>ABW</td>\n",
       "      <td>1968</td>\n",
       "      <td>ABW</td>\n",
       "      <td>Aruba</td>\n",
       "      <td>Latin America and Caribbean</td>\n",
       "      <td>NaN</td>\n",
       "      <td>NaN</td>\n",
       "      <td>HIC</td>\n",
       "      <td>High income</td>\n",
       "      <td>LNX</td>\n",
       "      <td>...</td>\n",
       "      <td>NaN</td>\n",
       "      <td>NaN</td>\n",
       "      <td>NaN</td>\n",
       "      <td>NaN</td>\n",
       "      <td>NaN</td>\n",
       "      <td>NaN</td>\n",
       "      <td>NaN</td>\n",
       "      <td>NaN</td>\n",
       "      <td>NaN</td>\n",
       "      <td>NaN</td>\n",
       "    </tr>\n",
       "    <tr>\n",
       "      <th>8</th>\n",
       "      <td>ABW</td>\n",
       "      <td>1969</td>\n",
       "      <td>ABW</td>\n",
       "      <td>Aruba</td>\n",
       "      <td>Latin America and Caribbean</td>\n",
       "      <td>NaN</td>\n",
       "      <td>NaN</td>\n",
       "      <td>HIC</td>\n",
       "      <td>High income</td>\n",
       "      <td>LNX</td>\n",
       "      <td>...</td>\n",
       "      <td>NaN</td>\n",
       "      <td>NaN</td>\n",
       "      <td>NaN</td>\n",
       "      <td>NaN</td>\n",
       "      <td>NaN</td>\n",
       "      <td>NaN</td>\n",
       "      <td>NaN</td>\n",
       "      <td>NaN</td>\n",
       "      <td>NaN</td>\n",
       "      <td>NaN</td>\n",
       "    </tr>\n",
       "    <tr>\n",
       "      <th>9</th>\n",
       "      <td>ABW</td>\n",
       "      <td>1970</td>\n",
       "      <td>ABW</td>\n",
       "      <td>Aruba</td>\n",
       "      <td>Latin America and Caribbean</td>\n",
       "      <td>NaN</td>\n",
       "      <td>NaN</td>\n",
       "      <td>HIC</td>\n",
       "      <td>High income</td>\n",
       "      <td>LNX</td>\n",
       "      <td>...</td>\n",
       "      <td>NaN</td>\n",
       "      <td>NaN</td>\n",
       "      <td>NaN</td>\n",
       "      <td>NaN</td>\n",
       "      <td>NaN</td>\n",
       "      <td>NaN</td>\n",
       "      <td>NaN</td>\n",
       "      <td>NaN</td>\n",
       "      <td>NaN</td>\n",
       "      <td>NaN</td>\n",
       "    </tr>\n",
       "  </tbody>\n",
       "</table>\n",
       "<p>10 rows × 3451 columns</p>\n",
       "</div>"
      ],
      "text/plain": [
       "   iso  year countrycode countryname                   regionname adminregion  \\\n",
       "0  ABW  1961         ABW       Aruba  Latin America and Caribbean         NaN   \n",
       "1  ABW  1962         ABW       Aruba  Latin America and Caribbean         NaN   \n",
       "2  ABW  1963         ABW       Aruba  Latin America and Caribbean         NaN   \n",
       "3  ABW  1964         ABW       Aruba  Latin America and Caribbean         NaN   \n",
       "4  ABW  1965         ABW       Aruba  Latin America and Caribbean         NaN   \n",
       "5  ABW  1966         ABW       Aruba  Latin America and Caribbean         NaN   \n",
       "6  ABW  1967         ABW       Aruba  Latin America and Caribbean         NaN   \n",
       "7  ABW  1968         ABW       Aruba  Latin America and Caribbean         NaN   \n",
       "8  ABW  1969         ABW       Aruba  Latin America and Caribbean         NaN   \n",
       "9  ABW  1970         ABW       Aruba  Latin America and Caribbean         NaN   \n",
       "\n",
       "  adminregionname incomelevel incomelevelname lendingtype  ...  \\\n",
       "0             NaN         HIC     High income         LNX  ...   \n",
       "1             NaN         HIC     High income         LNX  ...   \n",
       "2             NaN         HIC     High income         LNX  ...   \n",
       "3             NaN         HIC     High income         LNX  ...   \n",
       "4             NaN         HIC     High income         LNX  ...   \n",
       "5             NaN         HIC     High income         LNX  ...   \n",
       "6             NaN         HIC     High income         LNX  ...   \n",
       "7             NaN         HIC     High income         LNX  ...   \n",
       "8             NaN         HIC     High income         LNX  ...   \n",
       "9             NaN         HIC     High income         LNX  ...   \n",
       "\n",
       "  QG_wdi_unempfilo  QG_wdi_unempilo  QG_wdi_unempmilo  QG_wdi_unempyfilo  \\\n",
       "0              NaN              NaN               NaN                NaN   \n",
       "1              NaN              NaN               NaN                NaN   \n",
       "2              NaN              NaN               NaN                NaN   \n",
       "3              NaN              NaN               NaN                NaN   \n",
       "4              NaN              NaN               NaN                NaN   \n",
       "5              NaN              NaN               NaN                NaN   \n",
       "6              NaN              NaN               NaN                NaN   \n",
       "7              NaN              NaN               NaN                NaN   \n",
       "8              NaN              NaN               NaN                NaN   \n",
       "9              NaN              NaN               NaN                NaN   \n",
       "\n",
       "   QG_wdi_unempyilo  QG_wdi_unempymilo  QG_wdi_wip  QG_who_sanittot  \\\n",
       "0               NaN                NaN         NaN              NaN   \n",
       "1               NaN                NaN         NaN              NaN   \n",
       "2               NaN                NaN         NaN              NaN   \n",
       "3               NaN                NaN         NaN              NaN   \n",
       "4               NaN                NaN         NaN              NaN   \n",
       "5               NaN                NaN         NaN              NaN   \n",
       "6               NaN                NaN         NaN              NaN   \n",
       "7               NaN                NaN         NaN              NaN   \n",
       "8               NaN                NaN         NaN              NaN   \n",
       "9               NaN                NaN         NaN              NaN   \n",
       "\n",
       "   QG_whr_hap  QG_wr_regtype  \n",
       "0         NaN            NaN  \n",
       "1         NaN            NaN  \n",
       "2         NaN            NaN  \n",
       "3         NaN            NaN  \n",
       "4         NaN            NaN  \n",
       "5         NaN            NaN  \n",
       "6         NaN            NaN  \n",
       "7         NaN            NaN  \n",
       "8         NaN            NaN  \n",
       "9         NaN            NaN  \n",
       "\n",
       "[10 rows x 3451 columns]"
      ]
     },
     "execution_count": 5,
     "metadata": {},
     "output_type": "execute_result"
    }
   ],
   "source": [
    "# df.head(10)"
   ]
  },
  {
   "cell_type": "markdown",
   "metadata": {},
   "source": [
    "Information about dataset:"
   ]
  },
  {
   "cell_type": "code",
   "execution_count": 37,
   "metadata": {},
   "outputs": [
    {
     "name": "stdout",
     "output_type": "stream",
     "text": [
      "<class 'pandas.core.frame.DataFrame'>\n",
      "RangeIndex: 15312 entries, 0 to 15311 \n",
      "Columns: 3451 entries, iso to QG_wr_regtype\n",
      "dtypes: float64(3398), int64(1), object(52)\n",
      "memory usage: 403.2+ MB\n"
     ]
    }
   ],
   "source": [
    "print(\"<class 'pandas.core.frame.DataFrame'>\\nRangeIndex: 15312 entries, 0 to 15311 \\nColumns: 3451 entries, iso to QG_wr_regtype\\ndtypes: float64(3398), int64(1), object(52)\\nmemory usage: 403.2+ MB\")"
   ]
  },
  {
   "cell_type": "code",
   "execution_count": 38,
   "metadata": {},
   "outputs": [],
   "source": [
    "# df.info(verbose=0)"
   ]
  },
  {
   "cell_type": "code",
   "execution_count": 39,
   "metadata": {},
   "outputs": [
    {
     "name": "stdout",
     "output_type": "stream",
     "text": [
      "Target subjects are : ['USA', 'OED', 'HIC']\n"
     ]
    }
   ],
   "source": [
    "print('Target subjects are : %s' %(target_subjects))"
   ]
  },
  {
   "cell_type": "code",
   "execution_count": 40,
   "metadata": {},
   "outputs": [
    {
     "name": "stdout",
     "output_type": "stream",
     "text": [
      "Forecast for next 3 periods.\n"
     ]
    }
   ],
   "source": [
    "print('Forecast for next %d periods.' %(target_periods))"
   ]
  },
  {
   "cell_type": "code",
   "execution_count": 41,
   "metadata": {},
   "outputs": [],
   "source": [
    "data_info = pd.read_csv('data/features_dictionary.csv')"
   ]
  },
  {
   "cell_type": "code",
   "execution_count": 42,
   "metadata": {},
   "outputs": [],
   "source": [
    "def feat_info(cols: list) :\n",
    "    return data_info[data_info['Identifier'].isin(cols)]"
   ]
  },
  {
   "cell_type": "markdown",
   "metadata": {},
   "source": [
    "Target Columns:"
   ]
  },
  {
   "cell_type": "code",
   "execution_count": 43,
   "metadata": {},
   "outputs": [
    {
     "data": {
      "text/html": [
       "<div>\n",
       "<style scoped>\n",
       "    .dataframe tbody tr th:only-of-type {\n",
       "        vertical-align: middle;\n",
       "    }\n",
       "\n",
       "    .dataframe tbody tr th {\n",
       "        vertical-align: top;\n",
       "    }\n",
       "\n",
       "    .dataframe thead th {\n",
       "        text-align: right;\n",
       "    }\n",
       "</style>\n",
       "<table border=\"1\" class=\"dataframe\">\n",
       "  <thead>\n",
       "    <tr style=\"text-align: right;\">\n",
       "      <th></th>\n",
       "      <th>Identifier</th>\n",
       "      <th>Description</th>\n",
       "      <th>Source</th>\n",
       "      <th>Publisher</th>\n",
       "      <th>Year</th>\n",
       "      <th>Topic</th>\n",
       "    </tr>\n",
       "  </thead>\n",
       "  <tbody>\n",
       "    <tr>\n",
       "      <th>298</th>\n",
       "      <td>WB_ny_gdp_defl_kd_zg</td>\n",
       "      <td>Inflation, GDP deflator (annual %)</td>\n",
       "      <td>World Development Indicators</td>\n",
       "      <td>The World Bank Group</td>\n",
       "      <td>2018</td>\n",
       "      <td>Economic Growth</td>\n",
       "    </tr>\n",
       "    <tr>\n",
       "      <th>306</th>\n",
       "      <td>WB_ny_gdp_mktp_cd</td>\n",
       "      <td>GDP (current US$)</td>\n",
       "      <td>World Development Indicators</td>\n",
       "      <td>The World Bank Group</td>\n",
       "      <td>2018</td>\n",
       "      <td>Economic Growth</td>\n",
       "    </tr>\n",
       "  </tbody>\n",
       "</table>\n",
       "</div>"
      ],
      "text/plain": [
       "               Identifier                         Description  \\\n",
       "298  WB_ny_gdp_defl_kd_zg  Inflation, GDP deflator (annual %)   \n",
       "306     WB_ny_gdp_mktp_cd                   GDP (current US$)   \n",
       "\n",
       "                           Source             Publisher  Year            Topic  \n",
       "298  World Development Indicators  The World Bank Group  2018  Economic Growth  \n",
       "306  World Development Indicators  The World Bank Group  2018  Economic Growth  "
      ]
     },
     "execution_count": 43,
     "metadata": {},
     "output_type": "execute_result"
    }
   ],
   "source": [
    "feat_info(target_cols)"
   ]
  },
  {
   "cell_type": "markdown",
   "metadata": {},
   "source": [
    "Taget values (last 5 observation):"
   ]
  },
  {
   "cell_type": "code",
   "execution_count": 70,
   "metadata": {},
   "outputs": [],
   "source": [
    "# df[subject_iden_col+time_iden_cols+target_cols].tail()"
   ]
  },
  {
   "cell_type": "code",
   "execution_count": 73,
   "metadata": {},
   "outputs": [
    {
     "data": {
      "text/html": [
       "<div>\n",
       "<style scoped>\n",
       "    .dataframe tbody tr th:only-of-type {\n",
       "        vertical-align: middle;\n",
       "    }\n",
       "\n",
       "    .dataframe tbody tr th {\n",
       "        vertical-align: top;\n",
       "    }\n",
       "\n",
       "    .dataframe thead th {\n",
       "        text-align: right;\n",
       "    }\n",
       "</style>\n",
       "<table border=\"1\" class=\"dataframe\">\n",
       "  <thead>\n",
       "    <tr style=\"text-align: right;\">\n",
       "      <th></th>\n",
       "      <th>iso</th>\n",
       "      <th>year</th>\n",
       "      <th>WB_ny_gdp_mktp_cd</th>\n",
       "      <th>WB_ny_gdp_defl_kd_zg</th>\n",
       "    </tr>\n",
       "  </thead>\n",
       "  <tbody>\n",
       "    <tr>\n",
       "      <th>15307</th>\n",
       "      <td>ZWE</td>\n",
       "      <td>2014</td>\n",
       "      <td>1.949552e+10</td>\n",
       "      <td>-0.252141</td>\n",
       "    </tr>\n",
       "    <tr>\n",
       "      <th>15308</th>\n",
       "      <td>ZWE</td>\n",
       "      <td>2015</td>\n",
       "      <td>1.996312e+10</td>\n",
       "      <td>0.607814</td>\n",
       "    </tr>\n",
       "    <tr>\n",
       "      <th>15309</th>\n",
       "      <td>ZWE</td>\n",
       "      <td>2016</td>\n",
       "      <td>2.054868e+10</td>\n",
       "      <td>2.160993</td>\n",
       "    </tr>\n",
       "    <tr>\n",
       "      <th>15310</th>\n",
       "      <td>ZWE</td>\n",
       "      <td>2017</td>\n",
       "      <td>2.281301e+10</td>\n",
       "      <td>6.031593</td>\n",
       "    </tr>\n",
       "    <tr>\n",
       "      <th>15311</th>\n",
       "      <td>ZWE</td>\n",
       "      <td>2018</td>\n",
       "      <td>3.100052e+10</td>\n",
       "      <td>28.005545</td>\n",
       "    </tr>\n",
       "  </tbody>\n",
       "</table>\n",
       "</div>"
      ],
      "text/plain": [
       "       iso  year  WB_ny_gdp_mktp_cd  WB_ny_gdp_defl_kd_zg\n",
       "15307  ZWE  2014       1.949552e+10             -0.252141\n",
       "15308  ZWE  2015       1.996312e+10              0.607814\n",
       "15309  ZWE  2016       2.054868e+10              2.160993\n",
       "15310  ZWE  2017       2.281301e+10              6.031593\n",
       "15311  ZWE  2018       3.100052e+10             28.005545"
      ]
     },
     "execution_count": 73,
     "metadata": {},
     "output_type": "execute_result"
    }
   ],
   "source": [
    "ds2=pd.read_csv('data/ds2.csv', index_col='Unnamed: 0')\n",
    "ds2.head()"
   ]
  },
  {
   "cell_type": "code",
   "execution_count": 75,
   "metadata": {},
   "outputs": [],
   "source": [
    "# high_missing_cols =list(df.columns[(df.isna().sum()/len(df))>0.8]) #columns that more than 80% off entries missing \n",
    "\n",
    "# df=df.drop(columns=high_missing_cols)"
   ]
  },
  {
   "cell_type": "code",
   "execution_count": 76,
   "metadata": {},
   "outputs": [],
   "source": [
    "# df['subject']=df[subject_iden_col]\n",
    "# df=df.drop(columns=subject_iden_col)\n",
    "\n",
    "# df['date'] =df[time_iden_cols]\n",
    "# df=df.drop(columns=time_iden_cols)\n",
    "\n",
    "# df['SUBJECT']=df['subject']\n",
    "# df['DATE']=df['date']"
   ]
  },
  {
   "cell_type": "code",
   "execution_count": 77,
   "metadata": {
    "scrolled": false
   },
   "outputs": [],
   "source": [
    "# cat_cols=list(df.drop(['SUBJECT'],axis=1).select_dtypes(exclude=[np.float,np.int64]).columns)\n",
    "# num_cols=list(df.drop(['DATE']+target_cols,axis=1).select_dtypes(include=[np.float,np.int64]).columns)\n",
    "\n",
    "# df=df[['SUBJECT', 'DATE'] + target_cols + num_cols + cat_cols]"
   ]
  },
  {
   "cell_type": "markdown",
   "metadata": {},
   "source": [
    "Before imputation dataset looks like:"
   ]
  },
  {
   "cell_type": "code",
   "execution_count": 62,
   "metadata": {
    "scrolled": true
   },
   "outputs": [],
   "source": [
    "# df.tail(10)"
   ]
  },
  {
   "cell_type": "code",
   "execution_count": 74,
   "metadata": {},
   "outputs": [
    {
     "data": {
      "text/html": [
       "<div>\n",
       "<style scoped>\n",
       "    .dataframe tbody tr th:only-of-type {\n",
       "        vertical-align: middle;\n",
       "    }\n",
       "\n",
       "    .dataframe tbody tr th {\n",
       "        vertical-align: top;\n",
       "    }\n",
       "\n",
       "    .dataframe thead th {\n",
       "        text-align: right;\n",
       "    }\n",
       "</style>\n",
       "<table border=\"1\" class=\"dataframe\">\n",
       "  <thead>\n",
       "    <tr style=\"text-align: right;\">\n",
       "      <th></th>\n",
       "      <th>SUBJECT</th>\n",
       "      <th>DATE</th>\n",
       "      <th>WB_ny_gdp_mktp_cd</th>\n",
       "      <th>WB_ny_gdp_defl_kd_zg</th>\n",
       "      <th>WB_ag_agr_trac_no</th>\n",
       "      <th>WB_ag_lnd_agri_k2</th>\n",
       "      <th>WB_ag_lnd_agri_zs</th>\n",
       "      <th>WB_ag_lnd_arbl_ha</th>\n",
       "      <th>WB_ag_lnd_arbl_ha_pc</th>\n",
       "      <th>WB_ag_lnd_arbl_zs</th>\n",
       "      <th>...</th>\n",
       "      <th>QG_iaep_cc</th>\n",
       "      <th>QG_iaep_epmf</th>\n",
       "      <th>QG_iaep_es</th>\n",
       "      <th>QG_iaep_osp</th>\n",
       "      <th>QG_iaep_ufs</th>\n",
       "      <th>QG_lp_legor</th>\n",
       "      <th>QG_no_ef</th>\n",
       "      <th>QG_no_ufs</th>\n",
       "      <th>QG_wr_regtype</th>\n",
       "      <th>subject</th>\n",
       "    </tr>\n",
       "  </thead>\n",
       "  <tbody>\n",
       "    <tr>\n",
       "      <th>15302</th>\n",
       "      <td>ZWE</td>\n",
       "      <td>2009</td>\n",
       "      <td>9.665793e+09</td>\n",
       "      <td>95.408660</td>\n",
       "      <td>NaN</td>\n",
       "      <td>163000.0</td>\n",
       "      <td>42.135195</td>\n",
       "      <td>4100000.0</td>\n",
       "      <td>0.327294</td>\n",
       "      <td>10.598423</td>\n",
       "      <td>...</td>\n",
       "      <td>Yes</td>\n",
       "      <td>Yes</td>\n",
       "      <td>Plurality (FPP)</td>\n",
       "      <td>No</td>\n",
       "      <td>Unitary system</td>\n",
       "      <td>1. English Common Law</td>\n",
       "      <td>NaN</td>\n",
       "      <td>NaN</td>\n",
       "      <td>Party</td>\n",
       "      <td>ZWE</td>\n",
       "    </tr>\n",
       "    <tr>\n",
       "      <th>15303</th>\n",
       "      <td>ZWE</td>\n",
       "      <td>2010</td>\n",
       "      <td>1.204166e+10</td>\n",
       "      <td>4.098405</td>\n",
       "      <td>NaN</td>\n",
       "      <td>162000.0</td>\n",
       "      <td>41.876696</td>\n",
       "      <td>4000000.0</td>\n",
       "      <td>0.315017</td>\n",
       "      <td>10.339925</td>\n",
       "      <td>...</td>\n",
       "      <td>Yes</td>\n",
       "      <td>Yes</td>\n",
       "      <td>Plurality (FPP)</td>\n",
       "      <td>No</td>\n",
       "      <td>Unitary system</td>\n",
       "      <td>1. English Common Law</td>\n",
       "      <td>NaN</td>\n",
       "      <td>NaN</td>\n",
       "      <td>Party</td>\n",
       "      <td>ZWE</td>\n",
       "    </tr>\n",
       "    <tr>\n",
       "      <th>15304</th>\n",
       "      <td>ZWE</td>\n",
       "      <td>2011</td>\n",
       "      <td>1.410192e+10</td>\n",
       "      <td>2.553176</td>\n",
       "      <td>NaN</td>\n",
       "      <td>164000.0</td>\n",
       "      <td>42.393693</td>\n",
       "      <td>4200000.0</td>\n",
       "      <td>0.325725</td>\n",
       "      <td>10.856921</td>\n",
       "      <td>...</td>\n",
       "      <td>Yes</td>\n",
       "      <td>Yes</td>\n",
       "      <td>Plurality (FPP)</td>\n",
       "      <td>No</td>\n",
       "      <td>Unitary system</td>\n",
       "      <td>1. English Common Law</td>\n",
       "      <td>NaN</td>\n",
       "      <td>NaN</td>\n",
       "      <td>NaN</td>\n",
       "      <td>ZWE</td>\n",
       "    </tr>\n",
       "    <tr>\n",
       "      <th>15305</th>\n",
       "      <td>ZWE</td>\n",
       "      <td>2012</td>\n",
       "      <td>1.711485e+10</td>\n",
       "      <td>4.028577</td>\n",
       "      <td>NaN</td>\n",
       "      <td>162000.0</td>\n",
       "      <td>41.876696</td>\n",
       "      <td>4000000.0</td>\n",
       "      <td>0.304991</td>\n",
       "      <td>10.339925</td>\n",
       "      <td>...</td>\n",
       "      <td>Yes</td>\n",
       "      <td>Yes</td>\n",
       "      <td>Plurality (FPP)</td>\n",
       "      <td>No</td>\n",
       "      <td>Unitary system</td>\n",
       "      <td>1. English Common Law</td>\n",
       "      <td>NaN</td>\n",
       "      <td>NaN</td>\n",
       "      <td>NaN</td>\n",
       "      <td>ZWE</td>\n",
       "    </tr>\n",
       "    <tr>\n",
       "      <th>15306</th>\n",
       "      <td>ZWE</td>\n",
       "      <td>2013</td>\n",
       "      <td>1.909102e+10</td>\n",
       "      <td>9.370603</td>\n",
       "      <td>NaN</td>\n",
       "      <td>162000.0</td>\n",
       "      <td>41.876696</td>\n",
       "      <td>4000000.0</td>\n",
       "      <td>0.299617</td>\n",
       "      <td>10.339925</td>\n",
       "      <td>...</td>\n",
       "      <td>NaN</td>\n",
       "      <td>NaN</td>\n",
       "      <td>NaN</td>\n",
       "      <td>NaN</td>\n",
       "      <td>NaN</td>\n",
       "      <td>1. English Common Law</td>\n",
       "      <td>NaN</td>\n",
       "      <td>NaN</td>\n",
       "      <td>NaN</td>\n",
       "      <td>ZWE</td>\n",
       "    </tr>\n",
       "    <tr>\n",
       "      <th>15307</th>\n",
       "      <td>ZWE</td>\n",
       "      <td>2014</td>\n",
       "      <td>1.949552e+10</td>\n",
       "      <td>-0.252141</td>\n",
       "      <td>NaN</td>\n",
       "      <td>162000.0</td>\n",
       "      <td>41.876696</td>\n",
       "      <td>4000000.0</td>\n",
       "      <td>0.294406</td>\n",
       "      <td>10.339925</td>\n",
       "      <td>...</td>\n",
       "      <td>NaN</td>\n",
       "      <td>NaN</td>\n",
       "      <td>NaN</td>\n",
       "      <td>NaN</td>\n",
       "      <td>NaN</td>\n",
       "      <td>1. English Common Law</td>\n",
       "      <td>NaN</td>\n",
       "      <td>NaN</td>\n",
       "      <td>NaN</td>\n",
       "      <td>ZWE</td>\n",
       "    </tr>\n",
       "    <tr>\n",
       "      <th>15308</th>\n",
       "      <td>ZWE</td>\n",
       "      <td>2015</td>\n",
       "      <td>1.996312e+10</td>\n",
       "      <td>0.607814</td>\n",
       "      <td>NaN</td>\n",
       "      <td>162000.0</td>\n",
       "      <td>41.876696</td>\n",
       "      <td>4000000.0</td>\n",
       "      <td>0.289548</td>\n",
       "      <td>10.339925</td>\n",
       "      <td>...</td>\n",
       "      <td>NaN</td>\n",
       "      <td>NaN</td>\n",
       "      <td>NaN</td>\n",
       "      <td>NaN</td>\n",
       "      <td>NaN</td>\n",
       "      <td>1. English Common Law</td>\n",
       "      <td>NaN</td>\n",
       "      <td>NaN</td>\n",
       "      <td>NaN</td>\n",
       "      <td>ZWE</td>\n",
       "    </tr>\n",
       "    <tr>\n",
       "      <th>15309</th>\n",
       "      <td>ZWE</td>\n",
       "      <td>2016</td>\n",
       "      <td>2.054868e+10</td>\n",
       "      <td>2.160993</td>\n",
       "      <td>NaN</td>\n",
       "      <td>162000.0</td>\n",
       "      <td>41.876696</td>\n",
       "      <td>4000000.0</td>\n",
       "      <td>0.285095</td>\n",
       "      <td>10.339925</td>\n",
       "      <td>...</td>\n",
       "      <td>NaN</td>\n",
       "      <td>NaN</td>\n",
       "      <td>NaN</td>\n",
       "      <td>NaN</td>\n",
       "      <td>NaN</td>\n",
       "      <td>1. English Common Law</td>\n",
       "      <td>NaN</td>\n",
       "      <td>NaN</td>\n",
       "      <td>NaN</td>\n",
       "      <td>ZWE</td>\n",
       "    </tr>\n",
       "    <tr>\n",
       "      <th>15310</th>\n",
       "      <td>ZWE</td>\n",
       "      <td>2017</td>\n",
       "      <td>2.281301e+10</td>\n",
       "      <td>6.031593</td>\n",
       "      <td>NaN</td>\n",
       "      <td>NaN</td>\n",
       "      <td>NaN</td>\n",
       "      <td>NaN</td>\n",
       "      <td>NaN</td>\n",
       "      <td>NaN</td>\n",
       "      <td>...</td>\n",
       "      <td>NaN</td>\n",
       "      <td>NaN</td>\n",
       "      <td>NaN</td>\n",
       "      <td>NaN</td>\n",
       "      <td>NaN</td>\n",
       "      <td>1. English Common Law</td>\n",
       "      <td>NaN</td>\n",
       "      <td>NaN</td>\n",
       "      <td>NaN</td>\n",
       "      <td>ZWE</td>\n",
       "    </tr>\n",
       "    <tr>\n",
       "      <th>15311</th>\n",
       "      <td>ZWE</td>\n",
       "      <td>2018</td>\n",
       "      <td>3.100052e+10</td>\n",
       "      <td>28.005545</td>\n",
       "      <td>NaN</td>\n",
       "      <td>NaN</td>\n",
       "      <td>NaN</td>\n",
       "      <td>NaN</td>\n",
       "      <td>NaN</td>\n",
       "      <td>NaN</td>\n",
       "      <td>...</td>\n",
       "      <td>NaN</td>\n",
       "      <td>NaN</td>\n",
       "      <td>NaN</td>\n",
       "      <td>NaN</td>\n",
       "      <td>NaN</td>\n",
       "      <td>1. English Common Law</td>\n",
       "      <td>NaN</td>\n",
       "      <td>NaN</td>\n",
       "      <td>NaN</td>\n",
       "      <td>ZWE</td>\n",
       "    </tr>\n",
       "  </tbody>\n",
       "</table>\n",
       "<p>10 rows × 1621 columns</p>\n",
       "</div>"
      ],
      "text/plain": [
       "      SUBJECT  DATE  WB_ny_gdp_mktp_cd  WB_ny_gdp_defl_kd_zg  \\\n",
       "15302     ZWE  2009       9.665793e+09             95.408660   \n",
       "15303     ZWE  2010       1.204166e+10              4.098405   \n",
       "15304     ZWE  2011       1.410192e+10              2.553176   \n",
       "15305     ZWE  2012       1.711485e+10              4.028577   \n",
       "15306     ZWE  2013       1.909102e+10              9.370603   \n",
       "15307     ZWE  2014       1.949552e+10             -0.252141   \n",
       "15308     ZWE  2015       1.996312e+10              0.607814   \n",
       "15309     ZWE  2016       2.054868e+10              2.160993   \n",
       "15310     ZWE  2017       2.281301e+10              6.031593   \n",
       "15311     ZWE  2018       3.100052e+10             28.005545   \n",
       "\n",
       "       WB_ag_agr_trac_no  WB_ag_lnd_agri_k2  WB_ag_lnd_agri_zs  \\\n",
       "15302                NaN           163000.0          42.135195   \n",
       "15303                NaN           162000.0          41.876696   \n",
       "15304                NaN           164000.0          42.393693   \n",
       "15305                NaN           162000.0          41.876696   \n",
       "15306                NaN           162000.0          41.876696   \n",
       "15307                NaN           162000.0          41.876696   \n",
       "15308                NaN           162000.0          41.876696   \n",
       "15309                NaN           162000.0          41.876696   \n",
       "15310                NaN                NaN                NaN   \n",
       "15311                NaN                NaN                NaN   \n",
       "\n",
       "       WB_ag_lnd_arbl_ha  WB_ag_lnd_arbl_ha_pc  WB_ag_lnd_arbl_zs  ...  \\\n",
       "15302          4100000.0              0.327294          10.598423  ...   \n",
       "15303          4000000.0              0.315017          10.339925  ...   \n",
       "15304          4200000.0              0.325725          10.856921  ...   \n",
       "15305          4000000.0              0.304991          10.339925  ...   \n",
       "15306          4000000.0              0.299617          10.339925  ...   \n",
       "15307          4000000.0              0.294406          10.339925  ...   \n",
       "15308          4000000.0              0.289548          10.339925  ...   \n",
       "15309          4000000.0              0.285095          10.339925  ...   \n",
       "15310                NaN                   NaN                NaN  ...   \n",
       "15311                NaN                   NaN                NaN  ...   \n",
       "\n",
       "       QG_iaep_cc  QG_iaep_epmf       QG_iaep_es  QG_iaep_osp     QG_iaep_ufs  \\\n",
       "15302         Yes           Yes  Plurality (FPP)           No  Unitary system   \n",
       "15303         Yes           Yes  Plurality (FPP)           No  Unitary system   \n",
       "15304         Yes           Yes  Plurality (FPP)           No  Unitary system   \n",
       "15305         Yes           Yes  Plurality (FPP)           No  Unitary system   \n",
       "15306         NaN           NaN              NaN          NaN             NaN   \n",
       "15307         NaN           NaN              NaN          NaN             NaN   \n",
       "15308         NaN           NaN              NaN          NaN             NaN   \n",
       "15309         NaN           NaN              NaN          NaN             NaN   \n",
       "15310         NaN           NaN              NaN          NaN             NaN   \n",
       "15311         NaN           NaN              NaN          NaN             NaN   \n",
       "\n",
       "                 QG_lp_legor  QG_no_ef  QG_no_ufs  QG_wr_regtype  subject  \n",
       "15302  1. English Common Law       NaN        NaN          Party      ZWE  \n",
       "15303  1. English Common Law       NaN        NaN          Party      ZWE  \n",
       "15304  1. English Common Law       NaN        NaN            NaN      ZWE  \n",
       "15305  1. English Common Law       NaN        NaN            NaN      ZWE  \n",
       "15306  1. English Common Law       NaN        NaN            NaN      ZWE  \n",
       "15307  1. English Common Law       NaN        NaN            NaN      ZWE  \n",
       "15308  1. English Common Law       NaN        NaN            NaN      ZWE  \n",
       "15309  1. English Common Law       NaN        NaN            NaN      ZWE  \n",
       "15310  1. English Common Law       NaN        NaN            NaN      ZWE  \n",
       "15311  1. English Common Law       NaN        NaN            NaN      ZWE  \n",
       "\n",
       "[10 rows x 1621 columns]"
      ]
     },
     "execution_count": 74,
     "metadata": {},
     "output_type": "execute_result"
    }
   ],
   "source": [
    "ds3=pd.read_csv('data/ds3.csv', index_col='Unnamed: 0')\n",
    "ds3.head(10)"
   ]
  },
  {
   "cell_type": "markdown",
   "metadata": {},
   "source": [
    "# PART 1"
   ]
  },
  {
   "cell_type": "markdown",
   "metadata": {},
   "source": [
    "# IMPUTATION"
   ]
  },
  {
   "cell_type": "markdown",
   "metadata": {},
   "source": [
    "Let's fill the missing values. We first encode the categorical values, then scale the dataset. We use the information from previous and later period and 3 nearest features to fill the missing values by Bayesian Ridge Imputer."
   ]
  },
  {
   "cell_type": "code",
   "execution_count": 78,
   "metadata": {},
   "outputs": [],
   "source": [
    "# encoded_data=df.copy()\n",
    "# mask = df.isnull()"
   ]
  },
  {
   "cell_type": "code",
   "execution_count": 79,
   "metadata": {},
   "outputs": [],
   "source": [
    "# dic_encoder = defaultdict(LabelEncoder)\n",
    "\n",
    "# # Encoding the variable\n",
    "# encoded_data[cat_cols] = encoded_data[cat_cols].apply(lambda x: dic_encoder[x.name].fit_transform(x.astype(str)))\n",
    "\n",
    "# encoded_data=encoded_data.where(~mask, df)"
   ]
  },
  {
   "cell_type": "code",
   "execution_count": 80,
   "metadata": {},
   "outputs": [],
   "source": [
    "# # normalized the data \n",
    "# scaler = MinMaxScaler(feature_range=(0,1))\n",
    "# scaled_df = scaler.fit_transform(encoded_data.drop(columns=['SUBJECT','DATE']))"
   ]
  },
  {
   "cell_type": "code",
   "execution_count": 81,
   "metadata": {},
   "outputs": [],
   "source": [
    "# # create datefrane fir scaled data\n",
    "# scaled_df=pd.DataFrame(data=scaled_df,columns=encoded_data.drop(['SUBJECT','DATE'],axis=1).columns,index=encoded_data.index)\n",
    "\n",
    "# scaled_df[['SUBJECT','DATE']]=encoded_data[['SUBJECT','DATE']]\n",
    "# scaled_df=scaled_df[['SUBJECT', 'DATE'] + target_cols + num_cols + cat_cols]"
   ]
  },
  {
   "cell_type": "code",
   "execution_count": 82,
   "metadata": {},
   "outputs": [],
   "source": [
    "# def gen_lag_lead(data, n_in=1, n_out=0, dropnan=True): #t-n_in, ... t-1, t, t+1,...,t+n_out\n",
    "#     agg=data\n",
    "#     n_vars = data.shape[1]-2\n",
    "    \n",
    "#     for i in range(n_in, 0, -1):# input sequence (t-n_in, ... t-1)\n",
    "#         a=scaled_df.set_index('DATE').groupby('SUBJECT').shift(i).reset_index()\n",
    "#         a=a.drop(columns='DATE') #drop DATE column\n",
    "#         a.columns=[('var%d(t-%d)' % (j, i)) for j in range(n_vars)] #name columns var0(t-i),var1(t-i),..\n",
    "#         agg=pd.concat([agg,a],axis=1)\n",
    "    \n",
    "    \n",
    "#     for i in range(1,n_out+1):# input sequence (t-n_in, ... t-1)\n",
    "#         a=scaled_df.set_index('DATE').groupby('SUBJECT').shift(-i).reset_index()\n",
    "#         a=a.drop(columns='DATE') #drop DATE column\n",
    "#         a.columns=[('var%d(t+%d)' % (j, i)) for j in range(n_vars)] #name columns var0(t-i),var1(t-i),..\n",
    "#         agg=pd.concat([agg,a],axis=1)\n",
    "        \n",
    "#     # drop rows with NaN values\n",
    "#     if dropnan:\n",
    "#         agg.dropna(inplace=True)\n",
    "        \n",
    "#     return agg"
   ]
  },
  {
   "cell_type": "code",
   "execution_count": 83,
   "metadata": {},
   "outputs": [],
   "source": [
    "# scaled_df_lag_lead=gen_lag_lead(scaled_df,n_in=1,n_out=1,dropnan=False).drop(columns=['SUBJECT', 'DATE'])"
   ]
  },
  {
   "cell_type": "code",
   "execution_count": 84,
   "metadata": {},
   "outputs": [
    {
     "name": "stderr",
     "output_type": "stream",
     "text": [
      "C:\\Users\\xps-haydo\\anaconda3\\lib\\site-packages\\sklearn\\impute\\_iterative.py:637: ConvergenceWarning: [IterativeImputer] Early stopping criterion not reached.\n",
      "  warnings.warn(\"[IterativeImputer] Early stopping criterion not\"\n"
     ]
    }
   ],
   "source": [
    "# imputer = IterativeImputer(BayesianRidge(),n_nearest_features=3,tol=0.01,verbose=0,min_value=-0.001,max_value=1.001)\n",
    "# imputed_data=imputer.fit_transform(scaled_df_lag_lead)"
   ]
  },
  {
   "cell_type": "code",
   "execution_count": 85,
   "metadata": {},
   "outputs": [],
   "source": [
    "# imputed_data=pd.DataFrame(data=imputed_data, columns=scaled_df_lag_lead.columns, index=scaled_df_lag_lead.index)"
   ]
  },
  {
   "cell_type": "code",
   "execution_count": 86,
   "metadata": {},
   "outputs": [],
   "source": [
    "# imputed_scaled_df_lag_lead=imputed_data\n",
    "\n",
    "# imputed_scaled_df=imputed_data[scaled_df.drop(columns=['SUBJECT', 'DATE']).columns]\n"
   ]
  },
  {
   "cell_type": "code",
   "execution_count": 87,
   "metadata": {},
   "outputs": [],
   "source": [
    "# imputed_encoded_df=scaler.inverse_transform(imputed_scaled_df)"
   ]
  },
  {
   "cell_type": "code",
   "execution_count": 88,
   "metadata": {},
   "outputs": [],
   "source": [
    "# imputed_encoded_df=pd.DataFrame(data=imputed_encoded_df,columns=df.drop(columns=['SUBJECT','DATE']).columns,index=df.index)"
   ]
  },
  {
   "cell_type": "code",
   "execution_count": 89,
   "metadata": {},
   "outputs": [],
   "source": [
    "# imputed_df=imputed_encoded_df\n",
    "# imputed_df[cat_cols]=imputed_df[cat_cols].apply(lambda x: np.rint(x)).astype(np.int64)\n",
    "\n",
    "# imputed_df[cat_cols] = imputed_df[cat_cols].apply(lambda x: dic_encoder[x.name].inverse_transform(x))"
   ]
  },
  {
   "cell_type": "code",
   "execution_count": 90,
   "metadata": {},
   "outputs": [],
   "source": [
    "# imputed_df['SUBJECT']=df['SUBJECT']\n",
    "# imputed_df['DATE']=df['DATE']\n",
    "# imputed_df=imputed_df[['SUBJECT', 'DATE'] + target_cols + num_cols + cat_cols]"
   ]
  },
  {
   "cell_type": "markdown",
   "metadata": {},
   "source": [
    "Final imputed dataset:"
   ]
  },
  {
   "cell_type": "code",
   "execution_count": 91,
   "metadata": {
    "scrolled": true
   },
   "outputs": [],
   "source": [
    "# imputed_df.tail(10)"
   ]
  },
  {
   "cell_type": "code",
   "execution_count": 93,
   "metadata": {},
   "outputs": [
    {
     "data": {
      "text/html": [
       "<div>\n",
       "<style scoped>\n",
       "    .dataframe tbody tr th:only-of-type {\n",
       "        vertical-align: middle;\n",
       "    }\n",
       "\n",
       "    .dataframe tbody tr th {\n",
       "        vertical-align: top;\n",
       "    }\n",
       "\n",
       "    .dataframe thead th {\n",
       "        text-align: right;\n",
       "    }\n",
       "</style>\n",
       "<table border=\"1\" class=\"dataframe\">\n",
       "  <thead>\n",
       "    <tr style=\"text-align: right;\">\n",
       "      <th></th>\n",
       "      <th>SUBJECT</th>\n",
       "      <th>DATE</th>\n",
       "      <th>WB_ny_gdp_mktp_cd</th>\n",
       "      <th>WB_ny_gdp_defl_kd_zg</th>\n",
       "      <th>WB_ag_agr_trac_no</th>\n",
       "      <th>WB_ag_lnd_agri_k2</th>\n",
       "      <th>WB_ag_lnd_agri_zs</th>\n",
       "      <th>WB_ag_lnd_arbl_ha</th>\n",
       "      <th>WB_ag_lnd_arbl_ha_pc</th>\n",
       "      <th>WB_ag_lnd_arbl_zs</th>\n",
       "      <th>...</th>\n",
       "      <th>QG_iaep_cc</th>\n",
       "      <th>QG_iaep_epmf</th>\n",
       "      <th>QG_iaep_es</th>\n",
       "      <th>QG_iaep_osp</th>\n",
       "      <th>QG_iaep_ufs</th>\n",
       "      <th>QG_lp_legor</th>\n",
       "      <th>QG_no_ef</th>\n",
       "      <th>QG_no_ufs</th>\n",
       "      <th>QG_wr_regtype</th>\n",
       "      <th>subject</th>\n",
       "    </tr>\n",
       "  </thead>\n",
       "  <tbody>\n",
       "    <tr>\n",
       "      <th>15302</th>\n",
       "      <td>ZWE</td>\n",
       "      <td>2009</td>\n",
       "      <td>9.665793e+09</td>\n",
       "      <td>95.408660</td>\n",
       "      <td>-25053.139000</td>\n",
       "      <td>163000.000000</td>\n",
       "      <td>42.135195</td>\n",
       "      <td>4.100000e+06</td>\n",
       "      <td>0.327294</td>\n",
       "      <td>10.598423</td>\n",
       "      <td>...</td>\n",
       "      <td>Yes</td>\n",
       "      <td>Yes</td>\n",
       "      <td>Plurality (FPP)</td>\n",
       "      <td>No</td>\n",
       "      <td>Unitary system</td>\n",
       "      <td>1. English Common Law</td>\n",
       "      <td>Majoritarian</td>\n",
       "      <td>Unitary</td>\n",
       "      <td>Party</td>\n",
       "      <td>ZWE</td>\n",
       "    </tr>\n",
       "    <tr>\n",
       "      <th>15303</th>\n",
       "      <td>ZWE</td>\n",
       "      <td>2010</td>\n",
       "      <td>1.204166e+10</td>\n",
       "      <td>4.098405</td>\n",
       "      <td>82370.931812</td>\n",
       "      <td>162000.000000</td>\n",
       "      <td>41.876696</td>\n",
       "      <td>4.000000e+06</td>\n",
       "      <td>0.315017</td>\n",
       "      <td>10.339925</td>\n",
       "      <td>...</td>\n",
       "      <td>Yes</td>\n",
       "      <td>Yes</td>\n",
       "      <td>Plurality (FPP)</td>\n",
       "      <td>No</td>\n",
       "      <td>Unitary system</td>\n",
       "      <td>1. English Common Law</td>\n",
       "      <td>No competative elections</td>\n",
       "      <td>Unitary</td>\n",
       "      <td>Party</td>\n",
       "      <td>ZWE</td>\n",
       "    </tr>\n",
       "    <tr>\n",
       "      <th>15304</th>\n",
       "      <td>ZWE</td>\n",
       "      <td>2011</td>\n",
       "      <td>1.410192e+10</td>\n",
       "      <td>2.553176</td>\n",
       "      <td>182754.338129</td>\n",
       "      <td>164000.000000</td>\n",
       "      <td>42.393693</td>\n",
       "      <td>4.200000e+06</td>\n",
       "      <td>0.325725</td>\n",
       "      <td>10.856921</td>\n",
       "      <td>...</td>\n",
       "      <td>Yes</td>\n",
       "      <td>Yes</td>\n",
       "      <td>Plurality (FPP)</td>\n",
       "      <td>No</td>\n",
       "      <td>Unitary system</td>\n",
       "      <td>1. English Common Law</td>\n",
       "      <td>No competative elections</td>\n",
       "      <td>Unitary</td>\n",
       "      <td>Party-Military-Personal</td>\n",
       "      <td>ZWE</td>\n",
       "    </tr>\n",
       "    <tr>\n",
       "      <th>15305</th>\n",
       "      <td>ZWE</td>\n",
       "      <td>2012</td>\n",
       "      <td>1.711485e+10</td>\n",
       "      <td>4.028577</td>\n",
       "      <td>190138.837996</td>\n",
       "      <td>162000.000000</td>\n",
       "      <td>41.876696</td>\n",
       "      <td>4.000000e+06</td>\n",
       "      <td>0.304991</td>\n",
       "      <td>10.339925</td>\n",
       "      <td>...</td>\n",
       "      <td>Yes</td>\n",
       "      <td>Yes</td>\n",
       "      <td>Plurality (FPP)</td>\n",
       "      <td>No</td>\n",
       "      <td>Unitary system</td>\n",
       "      <td>1. English Common Law</td>\n",
       "      <td>No competative elections</td>\n",
       "      <td>Unitary</td>\n",
       "      <td>Party-Military-Personal</td>\n",
       "      <td>ZWE</td>\n",
       "    </tr>\n",
       "    <tr>\n",
       "      <th>15306</th>\n",
       "      <td>ZWE</td>\n",
       "      <td>2013</td>\n",
       "      <td>1.909102e+10</td>\n",
       "      <td>9.370603</td>\n",
       "      <td>193529.101341</td>\n",
       "      <td>162000.000000</td>\n",
       "      <td>41.876696</td>\n",
       "      <td>4.000000e+06</td>\n",
       "      <td>0.299617</td>\n",
       "      <td>10.339925</td>\n",
       "      <td>...</td>\n",
       "      <td>No</td>\n",
       "      <td>No</td>\n",
       "      <td>N/A - no legislature</td>\n",
       "      <td>No</td>\n",
       "      <td>Missing information</td>\n",
       "      <td>1. English Common Law</td>\n",
       "      <td>No competative elections</td>\n",
       "      <td>Unitary</td>\n",
       "      <td>Party-Military-Personal</td>\n",
       "      <td>ZWE</td>\n",
       "    </tr>\n",
       "    <tr>\n",
       "      <th>15307</th>\n",
       "      <td>ZWE</td>\n",
       "      <td>2014</td>\n",
       "      <td>1.949552e+10</td>\n",
       "      <td>-0.252141</td>\n",
       "      <td>208766.579968</td>\n",
       "      <td>162000.000000</td>\n",
       "      <td>41.876696</td>\n",
       "      <td>4.000000e+06</td>\n",
       "      <td>0.294406</td>\n",
       "      <td>10.339925</td>\n",
       "      <td>...</td>\n",
       "      <td>Yes</td>\n",
       "      <td>No</td>\n",
       "      <td>N/A - no legislature</td>\n",
       "      <td>No</td>\n",
       "      <td>Missing information</td>\n",
       "      <td>1. English Common Law</td>\n",
       "      <td>No competative elections</td>\n",
       "      <td>Unitary</td>\n",
       "      <td>Party-Military</td>\n",
       "      <td>ZWE</td>\n",
       "    </tr>\n",
       "    <tr>\n",
       "      <th>15308</th>\n",
       "      <td>ZWE</td>\n",
       "      <td>2015</td>\n",
       "      <td>1.996312e+10</td>\n",
       "      <td>0.607814</td>\n",
       "      <td>201445.771178</td>\n",
       "      <td>162000.000000</td>\n",
       "      <td>41.876696</td>\n",
       "      <td>4.000000e+06</td>\n",
       "      <td>0.289548</td>\n",
       "      <td>10.339925</td>\n",
       "      <td>...</td>\n",
       "      <td>Yes</td>\n",
       "      <td>No</td>\n",
       "      <td>N/A - no legislature</td>\n",
       "      <td>No</td>\n",
       "      <td>Missing information</td>\n",
       "      <td>1. English Common Law</td>\n",
       "      <td>No competative elections</td>\n",
       "      <td>Unitary</td>\n",
       "      <td>Party-Military</td>\n",
       "      <td>ZWE</td>\n",
       "    </tr>\n",
       "    <tr>\n",
       "      <th>15309</th>\n",
       "      <td>ZWE</td>\n",
       "      <td>2016</td>\n",
       "      <td>2.054868e+10</td>\n",
       "      <td>2.160993</td>\n",
       "      <td>191127.072674</td>\n",
       "      <td>162000.000000</td>\n",
       "      <td>41.876696</td>\n",
       "      <td>4.000000e+06</td>\n",
       "      <td>0.285095</td>\n",
       "      <td>10.339925</td>\n",
       "      <td>...</td>\n",
       "      <td>Yes</td>\n",
       "      <td>No</td>\n",
       "      <td>N/A - no legislature</td>\n",
       "      <td>No</td>\n",
       "      <td>Missing information</td>\n",
       "      <td>1. English Common Law</td>\n",
       "      <td>No competative elections</td>\n",
       "      <td>Unitary</td>\n",
       "      <td>Party-Military-Personal</td>\n",
       "      <td>ZWE</td>\n",
       "    </tr>\n",
       "    <tr>\n",
       "      <th>15310</th>\n",
       "      <td>ZWE</td>\n",
       "      <td>2017</td>\n",
       "      <td>2.281301e+10</td>\n",
       "      <td>6.031593</td>\n",
       "      <td>186700.549043</td>\n",
       "      <td>115983.303187</td>\n",
       "      <td>38.784419</td>\n",
       "      <td>2.737998e+06</td>\n",
       "      <td>0.217196</td>\n",
       "      <td>11.999161</td>\n",
       "      <td>...</td>\n",
       "      <td>Yes</td>\n",
       "      <td>No</td>\n",
       "      <td>N/A - no elected legislature</td>\n",
       "      <td>No</td>\n",
       "      <td>Missing information</td>\n",
       "      <td>1. English Common Law</td>\n",
       "      <td>No competative elections</td>\n",
       "      <td>Unitary</td>\n",
       "      <td>Party-Military-Personal</td>\n",
       "      <td>ZWE</td>\n",
       "    </tr>\n",
       "    <tr>\n",
       "      <th>15311</th>\n",
       "      <td>ZWE</td>\n",
       "      <td>2018</td>\n",
       "      <td>3.100052e+10</td>\n",
       "      <td>28.005545</td>\n",
       "      <td>201733.979566</td>\n",
       "      <td>884478.016527</td>\n",
       "      <td>38.090632</td>\n",
       "      <td>2.648727e+06</td>\n",
       "      <td>0.260472</td>\n",
       "      <td>12.068284</td>\n",
       "      <td>...</td>\n",
       "      <td>Yes</td>\n",
       "      <td>No</td>\n",
       "      <td>N/A - no elected legislature</td>\n",
       "      <td>No</td>\n",
       "      <td>Missing information</td>\n",
       "      <td>1. English Common Law</td>\n",
       "      <td>No competative elections</td>\n",
       "      <td>Unitary</td>\n",
       "      <td>Party</td>\n",
       "      <td>ZWE</td>\n",
       "    </tr>\n",
       "  </tbody>\n",
       "</table>\n",
       "<p>10 rows × 1621 columns</p>\n",
       "</div>"
      ],
      "text/plain": [
       "      SUBJECT  DATE  WB_ny_gdp_mktp_cd  WB_ny_gdp_defl_kd_zg  \\\n",
       "15302     ZWE  2009       9.665793e+09             95.408660   \n",
       "15303     ZWE  2010       1.204166e+10              4.098405   \n",
       "15304     ZWE  2011       1.410192e+10              2.553176   \n",
       "15305     ZWE  2012       1.711485e+10              4.028577   \n",
       "15306     ZWE  2013       1.909102e+10              9.370603   \n",
       "15307     ZWE  2014       1.949552e+10             -0.252141   \n",
       "15308     ZWE  2015       1.996312e+10              0.607814   \n",
       "15309     ZWE  2016       2.054868e+10              2.160993   \n",
       "15310     ZWE  2017       2.281301e+10              6.031593   \n",
       "15311     ZWE  2018       3.100052e+10             28.005545   \n",
       "\n",
       "       WB_ag_agr_trac_no  WB_ag_lnd_agri_k2  WB_ag_lnd_agri_zs  \\\n",
       "15302      -25053.139000      163000.000000          42.135195   \n",
       "15303       82370.931812      162000.000000          41.876696   \n",
       "15304      182754.338129      164000.000000          42.393693   \n",
       "15305      190138.837996      162000.000000          41.876696   \n",
       "15306      193529.101341      162000.000000          41.876696   \n",
       "15307      208766.579968      162000.000000          41.876696   \n",
       "15308      201445.771178      162000.000000          41.876696   \n",
       "15309      191127.072674      162000.000000          41.876696   \n",
       "15310      186700.549043      115983.303187          38.784419   \n",
       "15311      201733.979566      884478.016527          38.090632   \n",
       "\n",
       "       WB_ag_lnd_arbl_ha  WB_ag_lnd_arbl_ha_pc  WB_ag_lnd_arbl_zs  ...  \\\n",
       "15302       4.100000e+06              0.327294          10.598423  ...   \n",
       "15303       4.000000e+06              0.315017          10.339925  ...   \n",
       "15304       4.200000e+06              0.325725          10.856921  ...   \n",
       "15305       4.000000e+06              0.304991          10.339925  ...   \n",
       "15306       4.000000e+06              0.299617          10.339925  ...   \n",
       "15307       4.000000e+06              0.294406          10.339925  ...   \n",
       "15308       4.000000e+06              0.289548          10.339925  ...   \n",
       "15309       4.000000e+06              0.285095          10.339925  ...   \n",
       "15310       2.737998e+06              0.217196          11.999161  ...   \n",
       "15311       2.648727e+06              0.260472          12.068284  ...   \n",
       "\n",
       "       QG_iaep_cc  QG_iaep_epmf                    QG_iaep_es  QG_iaep_osp  \\\n",
       "15302         Yes           Yes               Plurality (FPP)           No   \n",
       "15303         Yes           Yes               Plurality (FPP)           No   \n",
       "15304         Yes           Yes               Plurality (FPP)           No   \n",
       "15305         Yes           Yes               Plurality (FPP)           No   \n",
       "15306          No            No          N/A - no legislature           No   \n",
       "15307         Yes            No          N/A - no legislature           No   \n",
       "15308         Yes            No          N/A - no legislature           No   \n",
       "15309         Yes            No          N/A - no legislature           No   \n",
       "15310         Yes            No  N/A - no elected legislature           No   \n",
       "15311         Yes            No  N/A - no elected legislature           No   \n",
       "\n",
       "               QG_iaep_ufs            QG_lp_legor                  QG_no_ef  \\\n",
       "15302       Unitary system  1. English Common Law              Majoritarian   \n",
       "15303       Unitary system  1. English Common Law  No competative elections   \n",
       "15304       Unitary system  1. English Common Law  No competative elections   \n",
       "15305       Unitary system  1. English Common Law  No competative elections   \n",
       "15306  Missing information  1. English Common Law  No competative elections   \n",
       "15307  Missing information  1. English Common Law  No competative elections   \n",
       "15308  Missing information  1. English Common Law  No competative elections   \n",
       "15309  Missing information  1. English Common Law  No competative elections   \n",
       "15310  Missing information  1. English Common Law  No competative elections   \n",
       "15311  Missing information  1. English Common Law  No competative elections   \n",
       "\n",
       "       QG_no_ufs            QG_wr_regtype  subject  \n",
       "15302    Unitary                    Party      ZWE  \n",
       "15303    Unitary                    Party      ZWE  \n",
       "15304    Unitary  Party-Military-Personal      ZWE  \n",
       "15305    Unitary  Party-Military-Personal      ZWE  \n",
       "15306    Unitary  Party-Military-Personal      ZWE  \n",
       "15307    Unitary           Party-Military      ZWE  \n",
       "15308    Unitary           Party-Military      ZWE  \n",
       "15309    Unitary  Party-Military-Personal      ZWE  \n",
       "15310    Unitary  Party-Military-Personal      ZWE  \n",
       "15311    Unitary                    Party      ZWE  \n",
       "\n",
       "[10 rows x 1621 columns]"
      ]
     },
     "execution_count": 93,
     "metadata": {},
     "output_type": "execute_result"
    }
   ],
   "source": [
    "ds4=pd.read_csv('data/ds4.csv', index_col='Unnamed: 0')\n",
    "ds4.head(10)"
   ]
  },
  {
   "cell_type": "markdown",
   "metadata": {},
   "source": [
    "# PART2"
   ]
  },
  {
   "cell_type": "markdown",
   "metadata": {},
   "source": [
    "# PREPROCESS"
   ]
  },
  {
   "cell_type": "markdown",
   "metadata": {},
   "source": [
    "We use a feature reduction technique to transform high-dimensional non-target columns into a space of fewer dimensions. I utilized the UMAP dimension reduction technique. It is very similar to t-SNE but is very general non-linear dimension reduction and faster than t-SNE. It can accommodate both local and global properties. The next step is detecting the possible periodicity in target variables. It would be very beneficial to know this periodicity information for the LSTM model. It would optimize how long data window model needs to feed into LSTM. It finds the highest power periods in the FFT transformation of the target columns."
   ]
  },
  {
   "cell_type": "code",
   "execution_count": 94,
   "metadata": {},
   "outputs": [],
   "source": [
    "# encoded_df=imputed_df.copy()\n",
    "# encoder=LabelEncoder()\n",
    "# encoded_df[cat_cols] = encoded_df[cat_cols].apply(lambda x: encoder.fit_transform(x.astype(str)))"
   ]
  },
  {
   "cell_type": "code",
   "execution_count": 95,
   "metadata": {},
   "outputs": [],
   "source": [
    "# feat_cols= num_cols + cat_cols\n",
    "\n",
    "# scaler=MinMaxScaler()\n",
    "\n",
    "# scaled_df = scaler.fit_transform(encoded_df[feat_cols] )\n",
    "\n",
    "# n_components=5\n",
    "# umap_data = umap.UMAP(n_neighbors=5, min_dist=0.3, n_components=n_components).fit_transform(scaled_df)"
   ]
  },
  {
   "cell_type": "code",
   "execution_count": 96,
   "metadata": {},
   "outputs": [],
   "source": [
    "# umap_data=pd.DataFrame(data=umap_data, columns=[('umap%d' % (j)) for j in range(n_components)], index=imputed_df.index)"
   ]
  },
  {
   "cell_type": "code",
   "execution_count": 97,
   "metadata": {},
   "outputs": [],
   "source": [
    "# reduced_df=imputed_df[['SUBJECT','DATE']+target_cols+['subject','date']].copy()\n",
    "# encoder=LabelEncoder()\n",
    "# reduced_df['subject'] = encoder.fit_transform(reduced_df['subject'])"
   ]
  },
  {
   "cell_type": "code",
   "execution_count": 98,
   "metadata": {},
   "outputs": [],
   "source": [
    "# add_cols=[('umap%d' % (j)) for j in range(n_components)]"
   ]
  },
  {
   "cell_type": "code",
   "execution_count": 99,
   "metadata": {},
   "outputs": [],
   "source": [
    "# reduced_df[add_cols]=umap_data"
   ]
  },
  {
   "cell_type": "markdown",
   "metadata": {},
   "source": [
    "Dataset after dimension reduction:"
   ]
  },
  {
   "cell_type": "code",
   "execution_count": 100,
   "metadata": {
    "scrolled": true
   },
   "outputs": [],
   "source": [
    "# reduced_df.head()"
   ]
  },
  {
   "cell_type": "code",
   "execution_count": 102,
   "metadata": {},
   "outputs": [
    {
     "data": {
      "text/html": [
       "<div>\n",
       "<style scoped>\n",
       "    .dataframe tbody tr th:only-of-type {\n",
       "        vertical-align: middle;\n",
       "    }\n",
       "\n",
       "    .dataframe tbody tr th {\n",
       "        vertical-align: top;\n",
       "    }\n",
       "\n",
       "    .dataframe thead th {\n",
       "        text-align: right;\n",
       "    }\n",
       "</style>\n",
       "<table border=\"1\" class=\"dataframe\">\n",
       "  <thead>\n",
       "    <tr style=\"text-align: right;\">\n",
       "      <th></th>\n",
       "      <th>SUBJECT</th>\n",
       "      <th>DATE</th>\n",
       "      <th>WB_ny_gdp_mktp_cd</th>\n",
       "      <th>WB_ny_gdp_defl_kd_zg</th>\n",
       "      <th>subject</th>\n",
       "      <th>date</th>\n",
       "      <th>umap0</th>\n",
       "      <th>umap1</th>\n",
       "      <th>umap2</th>\n",
       "      <th>umap3</th>\n",
       "      <th>umap4</th>\n",
       "    </tr>\n",
       "  </thead>\n",
       "  <tbody>\n",
       "    <tr>\n",
       "      <th>0</th>\n",
       "      <td>ABW</td>\n",
       "      <td>1961</td>\n",
       "      <td>2.689772e+11</td>\n",
       "      <td>23.984281</td>\n",
       "      <td>0</td>\n",
       "      <td>1961.0</td>\n",
       "      <td>-4.158994</td>\n",
       "      <td>3.558910</td>\n",
       "      <td>1.410178</td>\n",
       "      <td>-1.752378</td>\n",
       "      <td>3.322785</td>\n",
       "    </tr>\n",
       "    <tr>\n",
       "      <th>1</th>\n",
       "      <td>ABW</td>\n",
       "      <td>1962</td>\n",
       "      <td>2.419460e+11</td>\n",
       "      <td>23.432510</td>\n",
       "      <td>0</td>\n",
       "      <td>1962.0</td>\n",
       "      <td>-4.151247</td>\n",
       "      <td>3.565240</td>\n",
       "      <td>1.401594</td>\n",
       "      <td>-1.745583</td>\n",
       "      <td>3.333662</td>\n",
       "    </tr>\n",
       "    <tr>\n",
       "      <th>2</th>\n",
       "      <td>ABW</td>\n",
       "      <td>1963</td>\n",
       "      <td>2.275171e+11</td>\n",
       "      <td>23.469892</td>\n",
       "      <td>0</td>\n",
       "      <td>1963.0</td>\n",
       "      <td>-4.167038</td>\n",
       "      <td>3.551915</td>\n",
       "      <td>1.400125</td>\n",
       "      <td>-1.745926</td>\n",
       "      <td>3.329013</td>\n",
       "    </tr>\n",
       "    <tr>\n",
       "      <th>3</th>\n",
       "      <td>ABW</td>\n",
       "      <td>1964</td>\n",
       "      <td>1.777804e+11</td>\n",
       "      <td>23.525528</td>\n",
       "      <td>0</td>\n",
       "      <td>1964.0</td>\n",
       "      <td>-4.170464</td>\n",
       "      <td>3.539236</td>\n",
       "      <td>1.428634</td>\n",
       "      <td>-1.773583</td>\n",
       "      <td>3.310918</td>\n",
       "    </tr>\n",
       "    <tr>\n",
       "      <th>4</th>\n",
       "      <td>ABW</td>\n",
       "      <td>1965</td>\n",
       "      <td>1.844264e+11</td>\n",
       "      <td>23.611190</td>\n",
       "      <td>0</td>\n",
       "      <td>1965.0</td>\n",
       "      <td>-4.114349</td>\n",
       "      <td>3.582232</td>\n",
       "      <td>1.379526</td>\n",
       "      <td>-1.729056</td>\n",
       "      <td>3.367914</td>\n",
       "    </tr>\n",
       "  </tbody>\n",
       "</table>\n",
       "</div>"
      ],
      "text/plain": [
       "  SUBJECT  DATE  WB_ny_gdp_mktp_cd  WB_ny_gdp_defl_kd_zg  subject    date  \\\n",
       "0     ABW  1961       2.689772e+11             23.984281        0  1961.0   \n",
       "1     ABW  1962       2.419460e+11             23.432510        0  1962.0   \n",
       "2     ABW  1963       2.275171e+11             23.469892        0  1963.0   \n",
       "3     ABW  1964       1.777804e+11             23.525528        0  1964.0   \n",
       "4     ABW  1965       1.844264e+11             23.611190        0  1965.0   \n",
       "\n",
       "      umap0     umap1     umap2     umap3     umap4  \n",
       "0 -4.158994  3.558910  1.410178 -1.752378  3.322785  \n",
       "1 -4.151247  3.565240  1.401594 -1.745583  3.333662  \n",
       "2 -4.167038  3.551915  1.400125 -1.745926  3.329013  \n",
       "3 -4.170464  3.539236  1.428634 -1.773583  3.310918  \n",
       "4 -4.114349  3.582232  1.379526 -1.729056  3.367914  "
      ]
     },
     "execution_count": 102,
     "metadata": {},
     "output_type": "execute_result"
    }
   ],
   "source": [
    "ds5=pd.read_csv('data/ds5.csv', index_col='Unnamed: 0')\n",
    "ds5.head()"
   ]
  },
  {
   "cell_type": "markdown",
   "metadata": {},
   "source": [
    "Let's find whether there is a meaningful periodicity in the dataset"
   ]
  },
  {
   "cell_type": "code",
   "execution_count": 108,
   "metadata": {
    "scrolled": true
   },
   "outputs": [],
   "source": [
    "# ft_targets = fftpack.fft(reduced_df[target_cols], axis=0)\n",
    "# frequencies = fftpack.fftfreq(reduced_df[target_cols].shape[0],1)\n",
    "# periods = 1 / frequencies\n",
    "\n",
    "# periodicity_find=pd.DataFrame(abs(ft_targets) * 1e-3,columns=target_cols)\n",
    "# periodicity_find['periods']=periods\n",
    "\n",
    "# fig9=plt.figure(figsize=(5,5))\n",
    "\n",
    "\n",
    "# plt.plot(periodicity_find['periods'], periodicity_find[target_cols], 'o')\n",
    "# plt.xlim(1, 50)\n",
    "# plt.xlabel('Period')\n",
    "# plt.ylabel('Power ($\\cdot10^3$)')\n",
    "\n",
    "# plt.show()\n",
    "\n",
    "# pickle.dump(fig9, open('FigureObject9.fig.pickle', 'wb')) "
   ]
  },
  {
   "cell_type": "code",
   "execution_count": 109,
   "metadata": {},
   "outputs": [
    {
     "data": {
      "image/png": "[encoded data removed]",
      "text/plain": [
       "<Figure size 360x360 with 1 Axes>"
      ]
     },
     "execution_count": 109,
     "metadata": {},
     "output_type": "execute_result"
    }
   ],
   "source": [
    "fig9 = pickle.load(open('FigureObject9.fig.pickle', 'rb'))\n",
    "fig9"
   ]
  },
  {
   "cell_type": "code",
   "execution_count": 110,
   "metadata": {},
   "outputs": [],
   "source": [
    "# periodicity_find[((periodicity_find['periods']>0) & (periodicity_find['periods']<50))].max()"
   ]
  },
  {
   "cell_type": "code",
   "execution_count": 111,
   "metadata": {
    "scrolled": true
   },
   "outputs": [],
   "source": [
    "# periodicity_find[((periodicity_find['periods']>0) & (periodicity_find['periods']<50))].idxmax()"
   ]
  },
  {
   "cell_type": "code",
   "execution_count": 112,
   "metadata": {},
   "outputs": [],
   "source": [
    "# opt_period=np.rint(periodicity_find.loc[528,'periods'])"
   ]
  },
  {
   "cell_type": "code",
   "execution_count": 113,
   "metadata": {},
   "outputs": [],
   "source": [
    "# #time constant t_r=0.35*period\n",
    "# t_r=opt_period*0.35"
   ]
  },
  {
   "cell_type": "code",
   "execution_count": 114,
   "metadata": {},
   "outputs": [
    {
     "name": "stdout",
     "output_type": "stream",
     "text": [
      "Time constant is equal to 10 (highest period in the power spectrum times 0.35)\n"
     ]
    }
   ],
   "source": [
    "print('Time constant is equal to 10 (highest period in the power spectrum times 0.35)')"
   ]
  },
  {
   "cell_type": "code",
   "execution_count": 44,
   "metadata": {},
   "outputs": [],
   "source": [
    "# window=np.rint(t_r/2).astype(np.int64)"
   ]
  },
  {
   "cell_type": "code",
   "execution_count": 115,
   "metadata": {},
   "outputs": [
    {
     "name": "stdout",
     "output_type": "stream",
     "text": [
      "Optimal window length is 5 (approximately half of the time constant)\n"
     ]
    }
   ],
   "source": [
    "print('Optimal window length is 5 (approximately half of the time constant)')"
   ]
  },
  {
   "cell_type": "markdown",
   "metadata": {},
   "source": [
    "# First train the model for nontarget subjects (Global Data)"
   ]
  },
  {
   "cell_type": "markdown",
   "metadata": {},
   "source": [
    "There are two ways to solve time-series panel data: either loop throughout the model for each country’s data or the countries’ panel data once. If you try both and obtain the RMSE for each way, you can compare the result and choose the best way for your time series panel data."
   ]
  },
  {
   "cell_type": "markdown",
   "metadata": {},
   "source": [
    "Let's first train the LSTM model with Global Dataset"
   ]
  },
  {
   "cell_type": "code",
   "execution_count": 116,
   "metadata": {},
   "outputs": [],
   "source": [
    "#SCALE FEATURES "
   ]
  },
  {
   "cell_type": "code",
   "execution_count": 117,
   "metadata": {},
   "outputs": [],
   "source": [
    "# s=MinMaxScaler()\n",
    "# Xs=s.fit_transform(reduced_df.drop(columns=['SUBJECT','DATE']))\n",
    "# Ys=Xs"
   ]
  },
  {
   "cell_type": "code",
   "execution_count": 118,
   "metadata": {},
   "outputs": [],
   "source": [
    "# X=[]\n",
    "# Y=[]"
   ]
  },
  {
   "cell_type": "code",
   "execution_count": 119,
   "metadata": {},
   "outputs": [],
   "source": [
    "# subject_lists=reduced_df['SUBJECT'].unique().tolist()\n",
    "\n",
    "# subject_range_list=[]\n",
    "\n",
    "# for subject in subject_lists:\n",
    "#     range_subject=reduced_df.index[reduced_df['SUBJECT']==subject].tolist()\n",
    "    \n",
    "#     if not subject in target_subjects:\n",
    "#         start=range_subject[0]\n",
    "#         end=range_subject[-1]\n",
    "        \n",
    "#         for i in range(start+window,end+1):\n",
    "#             X.append(Xs[i-window:i,:])\n",
    "#             Y.append(Ys[i])\n",
    "#             subject_range_list.append(i)"
   ]
  },
  {
   "cell_type": "code",
   "execution_count": 120,
   "metadata": {},
   "outputs": [],
   "source": [
    "# X, Y =np.array(X), np.array(Y)"
   ]
  },
  {
   "cell_type": "code",
   "execution_count": 121,
   "metadata": {},
   "outputs": [],
   "source": [
    "# model = Sequential()\n",
    "\n",
    "# model.add(LSTM(units=32*Y.shape[1], activation='relu',input_shape=(X.shape[1], X.shape[2]), return_sequences=True ))\n",
    "# model.add(Dropout(0.1))\n",
    "\n",
    "# model.add(LSTM(units=8*Y.shape[1],return_sequences=False))\n",
    "# model.add(Dropout(0.1))\n",
    "\n",
    "# model.add(Dense(Y.shape[1]))\n",
    "# model.add(Activation(\"linear\"))\n",
    "\n",
    "# model.compile(optimizer=\"adam\",\n",
    "#               loss='mse',\n",
    "#               loss_weights=[1,0.001,0.001,0.01,0.00001,0.00001,0.00001,0.00001,0.00001]\n",
    "#              )\n",
    "\n",
    "# t0=time.time()\n",
    "\n",
    "# model.fit(X,Y, \n",
    "#           epochs=30, \n",
    "#           batch_size=128,  verbose=0, shuffle=False,\n",
    "#          )\n",
    "        \n",
    "# t1=time.time()\n",
    "# t=t1-t0"
   ]
  },
  {
   "cell_type": "code",
   "execution_count": 122,
   "metadata": {},
   "outputs": [],
   "source": [
    "t=65.4542944431305"
   ]
  },
  {
   "cell_type": "code",
   "execution_count": 123,
   "metadata": {},
   "outputs": [
    {
     "name": "stdout",
     "output_type": "stream",
     "text": [
      "Runtime for training the model: 65.45 s\n"
     ]
    }
   ],
   "source": [
    "print('Runtime for training the model: %.2f s' %(t))"
   ]
  },
  {
   "cell_type": "markdown",
   "metadata": {},
   "source": [
    "Model loss in each epoch"
   ]
  },
  {
   "cell_type": "code",
   "execution_count": 124,
   "metadata": {
    "scrolled": false
   },
   "outputs": [],
   "source": [
    "# # plot history\n",
    "# model_loss = pd.DataFrame(model.history.history)\n",
    "# model_loss.plot()"
   ]
  },
  {
   "cell_type": "code",
   "execution_count": 125,
   "metadata": {},
   "outputs": [],
   "source": [
    "# fig=model_loss.plot()\n",
    "# pickle.dump(fig, open('FigureObject.fig.pickle', 'wb')) "
   ]
  },
  {
   "cell_type": "code",
   "execution_count": 126,
   "metadata": {},
   "outputs": [
    {
     "data": {
      "image/png": "[encoded data removed]",
      "text/plain": [
       "<Figure size 432x288 with 1 Axes>"
      ]
     },
     "metadata": {
      "needs_background": "light"
     },
     "output_type": "display_data"
    }
   ],
   "source": [
    "fig1 = pickle.load(open('FigureObject.fig.pickle', 'rb'))"
   ]
  },
  {
   "cell_type": "markdown",
   "metadata": {},
   "source": [
    "# Model Evaluation Global Data"
   ]
  },
  {
   "cell_type": "code",
   "execution_count": 127,
   "metadata": {},
   "outputs": [],
   "source": [
    "# Y_pred=model.predict(X)\n",
    "# Y_pred=s.inverse_transform(Y_pred)\n",
    "# Y_pred=pd.DataFrame(Y_pred,index=subject_range_list, columns=reduced_df.drop(columns=['SUBJECT','DATE']).columns)\n",
    "# Y_pred['SUBJECT']=reduced_df.loc[subject_range_list]['SUBJECT']\n",
    "# Y_pred['DATE']=reduced_df.loc[subject_range_list]['DATE']\n",
    "# Y_pred=Y_pred[reduced_df.columns]\n",
    "# Y=reduced_df.loc[subject_range_list]"
   ]
  },
  {
   "cell_type": "markdown",
   "metadata": {},
   "source": [
    "How model performed for the mean values in each year:"
   ]
  },
  {
   "cell_type": "code",
   "execution_count": 128,
   "metadata": {
    "scrolled": true
   },
   "outputs": [],
   "source": [
    "# fig2=plt.figure(figsize=(20,10))\n",
    "# Y_pred.groupby('DATE')[target_cols[0]].mean().plot(kind='line',label='mean prediction',color='red',alpha=1)\n",
    "# Y.groupby('DATE')[target_cols[0]].mean().plot(kind='line',label='mean actual values',color='blue',alpha=0.4)\n",
    "# plt.xticks(rotation=90,size=20)\n",
    "# plt.yticks(size=20)\n",
    "\n",
    "# plt.ylabel(target_cols[0],fontsize=20)\n",
    "# plt.xlabel('Date',fontsize=20)\n",
    "# plt.title('Predicted Values VS Actual Values - Mean ',fontsize=20)\n",
    "# plt.legend()\n",
    "\n",
    "\n",
    "\n",
    "# pickle.dump(fig2, open('FigureObject2.fig.pickle', 'wb')) \n"
   ]
  },
  {
   "cell_type": "code",
   "execution_count": 129,
   "metadata": {},
   "outputs": [
    {
     "data": {
      "image/png": "[encoded data removed]",
      "text/plain": [
       "<Figure size 1440x720 with 1 Axes>"
      ]
     },
     "metadata": {
      "needs_background": "light"
     },
     "output_type": "display_data"
    }
   ],
   "source": [
    "fig2 = pickle.load(open('FigureObject2.fig.pickle', 'rb'))"
   ]
  },
  {
   "cell_type": "code",
   "execution_count": 130,
   "metadata": {},
   "outputs": [],
   "source": [
    "def RMSE(actual,prediction):\n",
    "    rmse = np.sqrt(mean_squared_error(actual,prediction))\n",
    "    return rmse"
   ]
  },
  {
   "cell_type": "code",
   "execution_count": 131,
   "metadata": {},
   "outputs": [],
   "source": [
    "# print('RMSE is %d' %RMSE(Y[target_cols[0]],Y_pred[target_cols[0]]))"
   ]
  },
  {
   "cell_type": "code",
   "execution_count": 132,
   "metadata": {},
   "outputs": [
    {
     "name": "stdout",
     "output_type": "stream",
     "text": [
      "RMSE is 850605668912\n"
     ]
    }
   ],
   "source": [
    "print('RMSE is 850605668912')"
   ]
  },
  {
   "cell_type": "markdown",
   "metadata": {},
   "source": [
    "# LSTM for Target Subjects"
   ]
  },
  {
   "cell_type": "markdown",
   "metadata": {},
   "source": [
    "Train Test Split and Back Testing for Target Countries"
   ]
  },
  {
   "cell_type": "code",
   "execution_count": 133,
   "metadata": {},
   "outputs": [],
   "source": [
    "# #create a train test split for given subject\n",
    "# def train_test_split(subject, percent=0.8):\n",
    "#     X_train=[]\n",
    "#     Y_train=[]\n",
    "#     X_test=[]\n",
    "#     Y_test=[]\n",
    "    \n",
    "#     range_subject=reduced_df.index[reduced_df['SUBJECT']==subject].tolist()\n",
    "#     subject_test_range_list=[]\n",
    "    \n",
    "#     start_train=range_subject[0]\n",
    "#     size=int((range_subject[-1]-range_subject[0])*percent)\n",
    "#     end_train=range_subject[size]\n",
    "    \n",
    "#     for i in range(start_train+window,end_train+1):\n",
    "#         X_train.append(Xs[i-window:i,:])\n",
    "#         Y_train.append(Ys[i])        \n",
    "\n",
    "#     start_test=range_subject[size+1]\n",
    "#     end_test=range_subject[-1]\n",
    "    \n",
    "#     for i in range(start_test,end_test+1):\n",
    "#         X_test.append(Xs[i-window:i,:])\n",
    "#         Y_test.append(Ys[i])\n",
    "#         subject_test_range_list.append(i) \n",
    "    \n",
    "#     X_train,Y_train,X_test,Y_test =np.array(X_train), np.array(Y_train),np.array(X_test), np.array(Y_test)\n",
    "    \n",
    "#     return X_train, Y_train, X_test, Y_test, subject_test_range_list"
   ]
  },
  {
   "cell_type": "code",
   "execution_count": 134,
   "metadata": {},
   "outputs": [],
   "source": [
    "# names=[]\n",
    "# names.append('FigureObject3.fig.pickle')\n",
    "# names.append('FigureObject4.fig.pickle')\n",
    "# names.append('FigureObject5.fig.pickle')"
   ]
  },
  {
   "cell_type": "code",
   "execution_count": 135,
   "metadata": {
    "scrolled": false
   },
   "outputs": [],
   "source": [
    "# # loop through target subjects\n",
    "# for i, subject in enumerate(target_subjects):\n",
    "#     X_train, Y_train, X_test, Y_test, subject_test_range_list = train_test_split(subject)\n",
    "    \n",
    "#     early_stop = EarlyStopping(monitor='val_loss', mode='min', verbose=1, patience=10)\n",
    "    \n",
    "#     t0=time.time()\n",
    "#     model.fit(X_train,Y_train, \n",
    "#               epochs=20, \n",
    "#               batch_size=32,  verbose=0, shuffle=False,\n",
    "#               validation_data=(X_test, Y_test),\n",
    "#               callbacks=[early_stop])\n",
    "#     t1=time.time()\n",
    "# #     print('Runtime: %.2f s' %(t1-t0))\n",
    "#     Y_test_pred=model.predict(X_test)\n",
    "#     Y_test_pred=s.inverse_transform(Y_test_pred)\n",
    "#     Y_test_pred=pd.DataFrame(Y_test_pred,index=subject_test_range_list, columns=reduced_df.drop(columns=['SUBJECT','DATE']).columns)\n",
    "#     Y_test_pred['SUBJECT']=reduced_df.loc[subject_test_range_list]['SUBJECT']\n",
    "#     Y_test_pred['DATE']=reduced_df.loc[subject_test_range_list]['DATE']\n",
    "#     Y=reduced_df.loc[subject_test_range_list]\n",
    "    \n",
    "# #     print(RMSE(Y[target_cols[0]],Y_test_pred[target_cols[0]]))\n",
    "    \n",
    "#     fig=plt.figure(figsize=(20,10))\n",
    "#     Y_test_pred.groupby('DATE')[target_cols[0]].mean().plot(kind='line',label='prediction',color='red',alpha=1)\n",
    "#     Y.groupby('DATE')[target_cols[0]].mean().plot(kind='line',label='actual values',color='blue',alpha=0.4)\n",
    "#     plt.xticks(rotation=90,size=20)\n",
    "#     plt.yticks(size=20)\n",
    "    \n",
    "    \n",
    "#     plt.ylabel(target_cols[0],fontsize=20)\n",
    "#     plt.xlabel('Date',fontsize=20)\n",
    "#     plt.title('Predicted Values VS Actual Values - %s' %(subject),fontsize=20)\n",
    "#     plt.legend()\n",
    "    \n",
    "    \n",
    "    \n",
    "#     pickle.dump(fig, open(names[i], 'wb')) "
   ]
  },
  {
   "cell_type": "code",
   "execution_count": 136,
   "metadata": {},
   "outputs": [
    {
     "data": {
      "image/png": "[encoded data removed]",
      "text/plain": [
       "<Figure size 1440x720 with 1 Axes>"
      ]
     },
     "metadata": {
      "needs_background": "light"
     },
     "output_type": "display_data"
    }
   ],
   "source": [
    "fig3 = pickle.load(open('FigureObject3.fig.pickle', 'rb'))"
   ]
  },
  {
   "cell_type": "code",
   "execution_count": 137,
   "metadata": {},
   "outputs": [
    {
     "data": {
      "image/png": "[encoded data removed]",
      "text/plain": [
       "<Figure size 1440x720 with 1 Axes>"
      ]
     },
     "metadata": {
      "needs_background": "light"
     },
     "output_type": "display_data"
    }
   ],
   "source": [
    "fig4 = pickle.load(open('FigureObject4.fig.pickle', 'rb'))"
   ]
  },
  {
   "cell_type": "code",
   "execution_count": 138,
   "metadata": {},
   "outputs": [
    {
     "data": {
      "image/png": "[encoded data removed]",
      "text/plain": [
       "<Figure size 1440x720 with 1 Axes>"
      ]
     },
     "metadata": {
      "needs_background": "light"
     },
     "output_type": "display_data"
    }
   ],
   "source": [
    "fig5 = pickle.load(open('FigureObject5.fig.pickle', 'rb'))"
   ]
  },
  {
   "cell_type": "markdown",
   "metadata": {},
   "source": [
    "The plot shows the predicted values versus actual values. Our model predicted very well"
   ]
  },
  {
   "cell_type": "markdown",
   "metadata": {},
   "source": [
    "# FORECAST"
   ]
  },
  {
   "cell_type": "markdown",
   "metadata": {},
   "source": [
    "We forecast next 3 periods for each target county."
   ]
  },
  {
   "cell_type": "code",
   "execution_count": 139,
   "metadata": {},
   "outputs": [],
   "source": [
    "# #First fit model for test data then create a forcast for next periods\n",
    "\n",
    "# for i, subject in enumerate(target_subjects):\n",
    "#     X_train, Y_train, X_test, Y_test, subject_test_range_list = train_test_split(subject)\n",
    "    \n",
    "#     t0=time.time()\n",
    "#     model.fit(X_test,Y_test, \n",
    "#               epochs=60, \n",
    "#               batch_size=16,  verbose=0, shuffle=False,\n",
    "#              ) "
   ]
  },
  {
   "cell_type": "code",
   "execution_count": 140,
   "metadata": {},
   "outputs": [],
   "source": [
    "#Using predicted values to predict next step"
   ]
  },
  {
   "cell_type": "code",
   "execution_count": 141,
   "metadata": {},
   "outputs": [],
   "source": [
    "# names=[]\n",
    "# names.append('FigureObject6.fig.pickle')\n",
    "# names.append('FigureObject7.fig.pickle')\n",
    "# names.append('FigureObject8.fig.pickle')"
   ]
  },
  {
   "cell_type": "code",
   "execution_count": 142,
   "metadata": {},
   "outputs": [],
   "source": [
    "# for i, subject in enumerate(target_subjects):\n",
    "    \n",
    "#     Yf=[]\n",
    "#     range_subject=reduced_df.index[reduced_df['SUBJECT']==subject].tolist()\n",
    "    \n",
    "#     start=range_subject[-1]\n",
    "    \n",
    "#     X=Xs[start+1-window:start+1,:].copy()\n",
    "#     for j in range(window,window+target_periods):\n",
    "#         Xin=X[j-window:j].reshape((1,window,-1))\n",
    "#         X=np.append(X,model.predict(Xin)).reshape((-1,9))\n",
    "#         Yf.append(X[-1])\n",
    "    \n",
    "#     Yf=s.inverse_transform(Yf)\n",
    "    \n",
    "#     Yf=pd.DataFrame(Yf, columns=reduced_df.drop(columns=['SUBJECT','DATE']).columns)\n",
    "#     Yf['SUBJECT']=reduced_df.loc[start]['SUBJECT']\n",
    "#     Yf['DATE']=range(reduced_df.loc[start]['DATE']+1,reduced_df.loc[start]['DATE']+1+target_periods)\n",
    "    \n",
    "        \n",
    "#     fig=plt.figure(figsize=(5,5))\n",
    "#     Yf.groupby('DATE')[target_cols[0]].mean().plot(kind='line',label='forecast',color='red',alpha=1)\n",
    "#     plt.xticks(Yf['DATE'],rotation=90,size=15)\n",
    "#     plt.yticks(size=15)\n",
    "    \n",
    "    \n",
    "#     plt.ylabel(target_cols[0],fontsize=15)\n",
    "#     plt.xlabel('Date',fontsize=15)\n",
    "#     plt.title('Forecast Values - %s' %(subject),fontsize=20)\n",
    "#     plt.legend()  \n",
    "    \n",
    "#     pickle.dump(fig, open(names[i], 'wb'))"
   ]
  },
  {
   "cell_type": "code",
   "execution_count": 143,
   "metadata": {},
   "outputs": [
    {
     "data": {
      "image/png": "[encoded data removed]",
      "text/plain": [
       "<Figure size 360x360 with 1 Axes>"
      ]
     },
     "metadata": {
      "needs_background": "light"
     },
     "output_type": "display_data"
    }
   ],
   "source": [
    "fig6 = pickle.load(open('FigureObject6.fig.pickle', 'rb'))"
   ]
  },
  {
   "cell_type": "code",
   "execution_count": 144,
   "metadata": {},
   "outputs": [
    {
     "data": {
      "image/png": "[encoded data removed]",
      "text/plain": [
       "<Figure size 360x360 with 1 Axes>"
      ]
     },
     "metadata": {
      "needs_background": "light"
     },
     "output_type": "display_data"
    }
   ],
   "source": [
    "fig7 = pickle.load(open('FigureObject7.fig.pickle', 'rb'))"
   ]
  },
  {
   "cell_type": "code",
   "execution_count": 145,
   "metadata": {},
   "outputs": [
    {
     "data": {
      "image/png": "[encoded data removed]",
      "text/plain": [
       "<Figure size 360x360 with 1 Axes>"
      ]
     },
     "metadata": {
      "needs_background": "light"
     },
     "output_type": "display_data"
    }
   ],
   "source": [
    "fig8 = pickle.load(open('FigureObject8.fig.pickle', 'rb'))"
   ]
  }
 ],
 "metadata": {
  "kernelspec": {
   "display_name": "Python 3",
   "language": "python",
   "name": "python3"
  },
  "language_info": {
   "codemirror_mode": {
    "name": "ipython",
    "version": 3
   },
   "file_extension": ".py",
   "mimetype": "text/x-python",
   "name": "python",
   "nbconvert_exporter": "python",
   "pygments_lexer": "ipython3",
   "version": "3.8.5"
  }
 },
 "nbformat": 4,
 "nbformat_minor": 4
}
